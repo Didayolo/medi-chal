{
 "cells": [
  {
   "cell_type": "code",
   "execution_count": 5,
   "metadata": {},
   "outputs": [
    {
     "name": "stdout",
     "output_type": "stream",
     "text": [
      "The autoreload extension is already loaded. To reload it, use:\n",
      "  %reload_ext autoreload\n"
     ]
    }
   ],
   "source": [
    "problem_dir = 'data_manager/'  \n",
    "from sys import path\n",
    "path.append(problem_dir)\n",
    "%matplotlib inline\n",
    "%load_ext autoreload\n",
    "%autoreload 2"
   ]
  },
  {
   "cell_type": "code",
   "execution_count": 12,
   "metadata": {},
   "outputs": [],
   "source": [
    "from auto_ml import AutoML\n",
    "\n",
    "input_dir = 'sample_data'\n",
    "basename = 'iris'\n",
    "D = AutoML(input_dir, basename)"
   ]
  },
  {
   "cell_type": "code",
   "execution_count": 10,
   "metadata": {},
   "outputs": [
    {
     "data": {
      "text/plain": [
       "{'feat_num': 4,\n",
       " 'feat_type': ['Mixed', 'Mixed', 'Mixed', 'Mixed'],\n",
       " 'format': 'dense',\n",
       " 'has_categorical': 0,\n",
       " 'has_missing': 0,\n",
       " 'is_sparse': 0,\n",
       " 'label_num': 0,\n",
       " 'metric': 'r2_metric',\n",
       " 'name': 'test',\n",
       " 'target_num': 1,\n",
       " 'target_type': 'Numerical',\n",
       " 'task': 'regression',\n",
       " 'time_budget': 600,\n",
       " 'usage': 'No info file'}"
      ]
     },
     "execution_count": 10,
     "metadata": {},
     "output_type": "execute_result"
    }
   ],
   "source": [
    "D.info"
   ]
  },
  {
   "cell_type": "code",
   "execution_count": null,
   "metadata": {},
   "outputs": [],
   "source": []
  }
 ],
 "metadata": {
  "kernelspec": {
   "display_name": "Python 3",
   "language": "python",
   "name": "python3"
  },
  "language_info": {
   "codemirror_mode": {
    "name": "ipython",
    "version": 3
   },
   "file_extension": ".py",
   "mimetype": "text/x-python",
   "name": "python",
   "nbconvert_exporter": "python",
   "pygments_lexer": "ipython3",
   "version": "3.5.1"
  }
 },
 "nbformat": 4,
 "nbformat_minor": 2
}

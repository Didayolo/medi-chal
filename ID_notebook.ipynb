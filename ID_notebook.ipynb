{
 "cells": [
  {
   "cell_type": "markdown",
   "metadata": {},
   "source": [
    "# Characterizing data distribution"
   ]
  },
  {
   "cell_type": "code",
   "execution_count": 1,
   "metadata": {},
   "outputs": [],
   "source": [
    "input_dir = 'sample_data'\n",
    "#input_dir = 'autoML'"
   ]
  },
  {
   "cell_type": "markdown",
   "metadata": {},
   "source": [
    "### We want to represent the dataset in a human-friendly format to get a good impression of it. This is a kind of dataset \"identity card\".\n",
    "\n",
    "- Data format : autoML\n",
    "\n",
    "### Characterization\n",
    "\n",
    "##### Visualization\n",
    "- Scatter plot matrix\n",
    "- Classes distribution\n",
    "- Hierarchical clustering with heatmap matrix\n",
    "- Hierarchical clustering with correlation matrix\n",
    "- Principal components analysis (PCA)\n",
    "- Linear discriminant analysis (LDA)\n",
    "- t-distributed stochastic neighbor embedding (t-SNE algorithme)\n",
    "\n",
    "##### Meta features\n",
    "- ClassProbabilityMin $= min_{i=1 \\dots n}(p(Class_i))= min_{i=1 \\dots n}(\\frac{NumberOfInstances\\_Class_i}{TotleNumberOfInstances}) $\n",
    "- ClassEntropy $= mean(-\\sum_{i=1}^{n}p(Class_i)ln(p(Class_i)))$ where $p(Class_i)$ is the probability of having an instance of Class\\_i\n",
    "- DatasetRatio $=\\frac{NumberOfFeatures}{NumberOfInstances}$\n",
    "- Landmark[Some\\_Model]: accuracy of [Some\\_Model] applied on dataset.\n",
    "- LandmarkDecisionNodeLearner \\& LandmarkRandomNodeLearner: Both are decision tree with max\\_depth=1. 'DecisionNode' considers all features when looking for best split, and 'RandomNode' considers only 1 feature, where comes the term 'random'.\n",
    "- SkewnessMin: min over skewness of all features. Skewness measures the symmetry of a distribution. A skewness value > 0 means that there is more weight in the left tail of the distribution.\n",
    "- NumSymbols: For each categorial feature, compute how many unique values there is ???\n",
    "- Kurtosis = Fourth central moment divided by the square of the variance $=\\frac{E[(x_i-E[x_i])^4]}{[E[(x_i-E[x_i])^4]]^2}$ where $x_i$ is the ith feature. \n",
    "- PCAKurtosis: Transform the dataset X by PCA, then compute the kurtosis"
   ]
  },
  {
   "cell_type": "code",
   "execution_count": 2,
   "metadata": {},
   "outputs": [],
   "source": [
    "# Imports\n",
    "\n",
    "import numpy as np\n",
    "import matplotlib.pyplot as plt\n",
    "import seaborn as sns\n",
    "import pandas as pd\n",
    "\n",
    "# Hierarchical clustering\n",
    "import matplotlib.pyplot as pylab\n",
    "import matplotlib as mpl\n",
    "\n",
    "import scipy\n",
    "import scipy.cluster.hierarchy as sch\n",
    "import scipy.spatial.distance as dist\n",
    "import string\n",
    "import time\n",
    "import sys, os\n",
    "import getopt\n",
    "\n",
    "# Principal component analysis\n",
    "from sklearn.decomposition import PCA\n",
    "\n",
    "# Discriminant analysis\n",
    "from sklearn.discriminant_analysis import LinearDiscriminantAnalysis\n",
    "\n",
    "# T-SNE\n",
    "from sklearn.manifold import TSNE"
   ]
  },
  {
   "cell_type": "markdown",
   "metadata": {},
   "source": [
    "### Read data"
   ]
  },
  {
   "cell_type": "code",
   "execution_count": 3,
   "metadata": {},
   "outputs": [],
   "source": [
    "# Currently ad-hoc\n",
    "\n",
    "# Will use ingestion program in the future ?\n",
    "\n",
    "# Example : \n",
    "# mimic.data\n",
    "# mimic_feat.name\n",
    "# mimic.solution\n",
    "# mimic_label.name\n",
    "\n",
    "# TODO : auto detect\n",
    "\n",
    "feat_name = pd.read_csv(input_dir+'/credit_feat.name', sep='\\n', header=None)\n",
    "data = pd.read_csv(input_dir+'/credit_train.data', sep=' ', header=None)\n",
    "X = pd.DataFrame(data.values, columns=feat_name)\n",
    "\n",
    "label_name = pd.read_csv(input_dir+'/credit_label.name', sep='\\n', header=None)\n",
    "solution = pd.read_csv(input_dir+'/credit_train.solution', sep=' ', header=None)\n",
    "y = pd.DataFrame(solution.values, columns=label_name)\n",
    "\n",
    "#feat_name = pd.read_csv(input_dir+'/mimic_feat.name', sep='\\n', header=None)\n",
    "#data = pd.read_csv(input_dir+'/mimic.data', sep=' ', header=None)\n",
    "#X = pd.DataFrame(data.values, columns=feat_name)\n",
    "\n",
    "#label_name = pd.read_csv(input_dir+'/mimic_label.name', sep='\\n', header=None)\n",
    "#solution = pd.read_csv(input_dir+'/mimic.solution', sep=' ', header=None)\n",
    "#y = pd.DataFrame(solution.values, columns=label_name)"
   ]
  },
  {
   "cell_type": "code",
   "execution_count": 4,
   "metadata": {},
   "outputs": [
    {
     "data": {
      "text/html": [
       "<div>\n",
       "<style scoped>\n",
       "    .dataframe tbody tr th:only-of-type {\n",
       "        vertical-align: middle;\n",
       "    }\n",
       "\n",
       "    .dataframe tbody tr th {\n",
       "        vertical-align: top;\n",
       "    }\n",
       "\n",
       "    .dataframe thead th {\n",
       "        text-align: right;\n",
       "    }\n",
       "</style>\n",
       "<table border=\"1\" class=\"dataframe\">\n",
       "  <thead>\n",
       "    <tr style=\"text-align: right;\">\n",
       "      <th></th>\n",
       "      <th>(X_0,)</th>\n",
       "      <th>(X_1,)</th>\n",
       "      <th>(X_2,)</th>\n",
       "      <th>(X_3,)</th>\n",
       "      <th>(X_4,)</th>\n",
       "      <th>(X_5,)</th>\n",
       "      <th>(X_6,)</th>\n",
       "      <th>(X_7,)</th>\n",
       "      <th>(X_8,)</th>\n",
       "      <th>(X_9,)</th>\n",
       "      <th>...</th>\n",
       "      <th>(X_46,)</th>\n",
       "      <th>(X_47,)</th>\n",
       "      <th>(X_48,)</th>\n",
       "      <th>(X_49,)</th>\n",
       "      <th>(X_50,)</th>\n",
       "      <th>(X_51,)</th>\n",
       "      <th>(X_52,)</th>\n",
       "      <th>(X_53,)</th>\n",
       "      <th>(X_54,)</th>\n",
       "      <th>(X_55,)</th>\n",
       "    </tr>\n",
       "  </thead>\n",
       "  <tbody>\n",
       "    <tr>\n",
       "      <th>0</th>\n",
       "      <td>1.0</td>\n",
       "      <td>-0.0241</td>\n",
       "      <td>1.4016</td>\n",
       "      <td>0.1381</td>\n",
       "      <td>-0.1727</td>\n",
       "      <td>-0.0377</td>\n",
       "      <td>0.3007</td>\n",
       "      <td>-0.0638</td>\n",
       "      <td>1.7541</td>\n",
       "      <td>-0.0579</td>\n",
       "      <td>...</td>\n",
       "      <td>-0.0192</td>\n",
       "      <td>0.5274</td>\n",
       "      <td>-0.0174</td>\n",
       "      <td>0.0713</td>\n",
       "      <td>-0.1119</td>\n",
       "      <td>0.0037</td>\n",
       "      <td>-0.0151</td>\n",
       "      <td>-0.1015</td>\n",
       "      <td>0.4161</td>\n",
       "      <td>-0.0137</td>\n",
       "    </tr>\n",
       "    <tr>\n",
       "      <th>1</th>\n",
       "      <td>1.0</td>\n",
       "      <td>-0.0239</td>\n",
       "      <td>0.9955</td>\n",
       "      <td>-0.1004</td>\n",
       "      <td>-0.1731</td>\n",
       "      <td>-0.0945</td>\n",
       "      <td>3.0213</td>\n",
       "      <td>-0.0638</td>\n",
       "      <td>-0.0161</td>\n",
       "      <td>-0.0579</td>\n",
       "      <td>...</td>\n",
       "      <td>-0.1927</td>\n",
       "      <td>-0.0488</td>\n",
       "      <td>-0.1748</td>\n",
       "      <td>-2.0125</td>\n",
       "      <td>0.0010</td>\n",
       "      <td>0.0037</td>\n",
       "      <td>0.0425</td>\n",
       "      <td>0.0009</td>\n",
       "      <td>0.0108</td>\n",
       "      <td>0.0385</td>\n",
       "    </tr>\n",
       "    <tr>\n",
       "      <th>2</th>\n",
       "      <td>1.0</td>\n",
       "      <td>-0.0234</td>\n",
       "      <td>0.2508</td>\n",
       "      <td>-0.1004</td>\n",
       "      <td>-0.1730</td>\n",
       "      <td>-0.1814</td>\n",
       "      <td>0.3007</td>\n",
       "      <td>-0.0638</td>\n",
       "      <td>-0.0161</td>\n",
       "      <td>-0.0579</td>\n",
       "      <td>...</td>\n",
       "      <td>-0.0192</td>\n",
       "      <td>-0.0049</td>\n",
       "      <td>-0.0174</td>\n",
       "      <td>0.3429</td>\n",
       "      <td>0.0010</td>\n",
       "      <td>0.0037</td>\n",
       "      <td>-0.0728</td>\n",
       "      <td>0.0009</td>\n",
       "      <td>-0.0184</td>\n",
       "      <td>-0.0660</td>\n",
       "    </tr>\n",
       "    <tr>\n",
       "      <th>3</th>\n",
       "      <td>1.0</td>\n",
       "      <td>-0.0242</td>\n",
       "      <td>0.8601</td>\n",
       "      <td>-0.1004</td>\n",
       "      <td>-0.1472</td>\n",
       "      <td>-0.0790</td>\n",
       "      <td>-1.0596</td>\n",
       "      <td>-0.0638</td>\n",
       "      <td>-0.9013</td>\n",
       "      <td>-0.0579</td>\n",
       "      <td>...</td>\n",
       "      <td>0.0676</td>\n",
       "      <td>0.9550</td>\n",
       "      <td>0.0613</td>\n",
       "      <td>0.7058</td>\n",
       "      <td>0.0575</td>\n",
       "      <td>0.0037</td>\n",
       "      <td>0.0425</td>\n",
       "      <td>0.0521</td>\n",
       "      <td>0.6004</td>\n",
       "      <td>0.0385</td>\n",
       "    </tr>\n",
       "    <tr>\n",
       "      <th>4</th>\n",
       "      <td>1.0</td>\n",
       "      <td>-0.0240</td>\n",
       "      <td>1.3339</td>\n",
       "      <td>-0.1004</td>\n",
       "      <td>-0.1732</td>\n",
       "      <td>-0.1876</td>\n",
       "      <td>0.1063</td>\n",
       "      <td>-0.0638</td>\n",
       "      <td>-0.9013</td>\n",
       "      <td>-0.0579</td>\n",
       "      <td>...</td>\n",
       "      <td>-0.0068</td>\n",
       "      <td>-0.0958</td>\n",
       "      <td>-0.0062</td>\n",
       "      <td>-0.0708</td>\n",
       "      <td>0.0575</td>\n",
       "      <td>0.0037</td>\n",
       "      <td>0.0425</td>\n",
       "      <td>0.0521</td>\n",
       "      <td>0.6004</td>\n",
       "      <td>0.0385</td>\n",
       "    </tr>\n",
       "  </tbody>\n",
       "</table>\n",
       "<p>5 rows × 56 columns</p>\n",
       "</div>"
      ],
      "text/plain": [
       "   (X_0,)  (X_1,)  (X_2,)  (X_3,)  (X_4,)  (X_5,)  (X_6,)  (X_7,)  (X_8,)  \\\n",
       "0     1.0 -0.0241  1.4016  0.1381 -0.1727 -0.0377  0.3007 -0.0638  1.7541   \n",
       "1     1.0 -0.0239  0.9955 -0.1004 -0.1731 -0.0945  3.0213 -0.0638 -0.0161   \n",
       "2     1.0 -0.0234  0.2508 -0.1004 -0.1730 -0.1814  0.3007 -0.0638 -0.0161   \n",
       "3     1.0 -0.0242  0.8601 -0.1004 -0.1472 -0.0790 -1.0596 -0.0638 -0.9013   \n",
       "4     1.0 -0.0240  1.3339 -0.1004 -0.1732 -0.1876  0.1063 -0.0638 -0.9013   \n",
       "\n",
       "   (X_9,)   ...     (X_46,)  (X_47,)  (X_48,)  (X_49,)  (X_50,)  (X_51,)  \\\n",
       "0 -0.0579   ...     -0.0192   0.5274  -0.0174   0.0713  -0.1119   0.0037   \n",
       "1 -0.0579   ...     -0.1927  -0.0488  -0.1748  -2.0125   0.0010   0.0037   \n",
       "2 -0.0579   ...     -0.0192  -0.0049  -0.0174   0.3429   0.0010   0.0037   \n",
       "3 -0.0579   ...      0.0676   0.9550   0.0613   0.7058   0.0575   0.0037   \n",
       "4 -0.0579   ...     -0.0068  -0.0958  -0.0062  -0.0708   0.0575   0.0037   \n",
       "\n",
       "   (X_52,)  (X_53,)  (X_54,)  (X_55,)  \n",
       "0  -0.0151  -0.1015   0.4161  -0.0137  \n",
       "1   0.0425   0.0009   0.0108   0.0385  \n",
       "2  -0.0728   0.0009  -0.0184  -0.0660  \n",
       "3   0.0425   0.0521   0.6004   0.0385  \n",
       "4   0.0425   0.0521   0.6004   0.0385  \n",
       "\n",
       "[5 rows x 56 columns]"
      ]
     },
     "execution_count": 4,
     "metadata": {},
     "output_type": "execute_result"
    }
   ],
   "source": [
    "X.head()"
   ]
  },
  {
   "cell_type": "code",
   "execution_count": 5,
   "metadata": {},
   "outputs": [
    {
     "data": {
      "text/html": [
       "<div>\n",
       "<style scoped>\n",
       "    .dataframe tbody tr th:only-of-type {\n",
       "        vertical-align: middle;\n",
       "    }\n",
       "\n",
       "    .dataframe tbody tr th {\n",
       "        vertical-align: top;\n",
       "    }\n",
       "\n",
       "    .dataframe thead th {\n",
       "        text-align: right;\n",
       "    }\n",
       "</style>\n",
       "<table border=\"1\" class=\"dataframe\">\n",
       "  <thead>\n",
       "    <tr style=\"text-align: right;\">\n",
       "      <th></th>\n",
       "      <th>granted</th>\n",
       "    </tr>\n",
       "  </thead>\n",
       "  <tbody>\n",
       "    <tr>\n",
       "      <th>0</th>\n",
       "      <td>1.0</td>\n",
       "    </tr>\n",
       "    <tr>\n",
       "      <th>1</th>\n",
       "      <td>0.0</td>\n",
       "    </tr>\n",
       "    <tr>\n",
       "      <th>2</th>\n",
       "      <td>0.0</td>\n",
       "    </tr>\n",
       "    <tr>\n",
       "      <th>3</th>\n",
       "      <td>0.0</td>\n",
       "    </tr>\n",
       "    <tr>\n",
       "      <th>4</th>\n",
       "      <td>0.0</td>\n",
       "    </tr>\n",
       "  </tbody>\n",
       "</table>\n",
       "</div>"
      ],
      "text/plain": [
       "   granted\n",
       "0      1.0\n",
       "1      0.0\n",
       "2      0.0\n",
       "3      0.0\n",
       "4      0.0"
      ]
     },
     "execution_count": 5,
     "metadata": {},
     "output_type": "execute_result"
    }
   ],
   "source": [
    "y.head()"
   ]
  },
  {
   "cell_type": "markdown",
   "metadata": {},
   "source": [
    "### Simplification\n",
    "\n",
    "- Replace missing values, NaN, Inf.\n",
    "- Replace missing categorical variables.\n",
    "- Normalization"
   ]
  },
  {
   "cell_type": "code",
   "execution_count": 6,
   "metadata": {},
   "outputs": [],
   "source": [
    "def is_numeric(variable):\n",
    "    \"\"\" Test if a variable (DataFrame column) is numeric or categorical \"\"\"\n",
    "    \n",
    "    numeric = False\n",
    "    for value in variable:\n",
    "        # Check if there is at least one value that is a number and not NaN\n",
    "        # (isinstance consider Nan as a Number)\n",
    "        if isinstance(value, (int, float)) and not np.isnan(value):\n",
    "            numeric = True\n",
    "            break\n",
    "            \n",
    "    return numeric\n",
    "    \n",
    "def preprocessing(data):\n",
    "    \"\"\" Return preprocessed DataFrame \"\"\"\n",
    "    \n",
    "    columns = data.columns.values\n",
    "\n",
    "    for column in columns:\n",
    "    \n",
    "        # For numerical variables\n",
    "        if is_numeric(data[column]):\n",
    "    \n",
    "            # Replace NaN with the median of the variable value\n",
    "            data[column] = data[column].fillna(data[column].median())\n",
    "    \n",
    "            # Replace +Inf by the maximum and -Inf by the minimum\n",
    "            data[column] = data[column].replace(np.inf, max(data[column]))\n",
    "            data[column] = data[column].replace(-np.inf, min(data[column]))\n",
    "    \n",
    "        # For categorigal variables\n",
    "        else:\n",
    "            # Replace NaN with 'missing'\n",
    "            # TODO : For one-hot encoding : [0, 0, ..., 0]\n",
    "            data[column] = data[column].fillna('missing')\n",
    "            \n",
    "            # One-hot encoding\n",
    "            one_hot = pd.get_dummies(data[column])\n",
    "            data = data.drop(column, axis=1)\n",
    "            data = data.join(one_hot, lsuffix='l', rsuffix='r')\n",
    "        \n",
    "    return data"
   ]
  },
  {
   "cell_type": "code",
   "execution_count": 7,
   "metadata": {},
   "outputs": [],
   "source": [
    "X = preprocessing(X)\n",
    "y = preprocessing(y)"
   ]
  },
  {
   "cell_type": "markdown",
   "metadata": {},
   "source": [
    "# Visualization"
   ]
  },
  {
   "cell_type": "markdown",
   "metadata": {},
   "source": [
    "### Scatter plot matrix"
   ]
  },
  {
   "cell_type": "code",
   "execution_count": 20,
   "metadata": {},
   "outputs": [
    {
     "data": {
      "text/plain": [
       "<seaborn.axisgrid.PairGrid at 0x7fa5f7fd2400>"
      ]
     },
     "execution_count": 20,
     "metadata": {},
     "output_type": "execute_result"
    }
   ],
   "source": [
    "sns.set(style=\"ticks\")\n",
    "sns.pairplot(X)\n",
    "plt.show()"
   ]
  },
  {
   "cell_type": "markdown",
   "metadata": {},
   "source": [
    "### Classes distribution"
   ]
  },
  {
   "cell_type": "code",
   "execution_count": 11,
   "metadata": {},
   "outputs": [
    {
     "name": "stderr",
     "output_type": "stream",
     "text": [
      "/usr/lib/python3.6/site-packages/matplotlib/axes/_axes.py:6448: UserWarning: The 'normed' kwarg is deprecated, and has been replaced by the 'density' kwarg.\n",
      "  warnings.warn(\"The 'normed' kwarg is deprecated, and has been \"\n"
     ]
    },
    {
     "data": {
      "image/png": "[encoded data removed]",
      "text/plain": [
       "<Figure size 432x288 with 1 Axes>"
      ]
     },
     "metadata": {},
     "output_type": "display_data"
    }
   ],
   "source": [
    "sns.distplot(y)\n",
    "plt.show()"
   ]
  },
  {
   "cell_type": "markdown",
   "metadata": {},
   "source": [
    "### Hierarchical clustering"
   ]
  },
  {
   "cell_type": "code",
   "execution_count": 8,
   "metadata": {},
   "outputs": [],
   "source": [
    "def heatmap(X, row_method,\n",
    "            column_method, row_metric, column_metric,\n",
    "            color_gradient):\n",
    "    \n",
    "    print(\"\\nPerforming hiearchical clustering using {} for columns and {} for rows\".format(column_metric, row_metric))\n",
    "        \n",
    "    \"\"\"\n",
    "    This below code is based in large part on the protype methods:\n",
    "    http://old.nabble.com/How-to-plot-heatmap-with-matplotlib--td32534593.html\n",
    "    http://stackoverflow.com/questions/7664826/how-to-get-flat-clustering-corresponding-to-color-clusters-in-the-dendrogram-cre\n",
    "\n",
    "    x is an m by n ndarray, m observations, n genes\n",
    "    \"\"\"\n",
    "    \n",
    "    ### Define variables\n",
    "    x = np.array(X)\n",
    "    column_header = column_header = ['T'+str(dataset) for dataset in list(X)] # X.columns.values\n",
    "    row_header = ['A'+str(model) for model in list(X.index)] # X.index\n",
    "    \n",
    "    ### Define the color gradient to use based on the provided name\n",
    "    n = len(x[0]); m = len(x)\n",
    "    if color_gradient == 'red_white_blue':\n",
    "        cmap=pylab.cm.bwr\n",
    "    if color_gradient == 'red_black_sky':\n",
    "        cmap=RedBlackSkyBlue()\n",
    "    if color_gradient == 'red_black_blue':\n",
    "        cmap=RedBlackBlue()\n",
    "    if color_gradient == 'red_black_green':\n",
    "        cmap=RedBlackGreen()\n",
    "    if color_gradient == 'yellow_black_blue':\n",
    "        cmap=YellowBlackBlue()\n",
    "    if color_gradient == 'seismic':\n",
    "        cmap=pylab.cm.seismic\n",
    "    if color_gradient == 'green_white_purple':\n",
    "        cmap=pylab.cm.PiYG_r\n",
    "    if color_gradient == 'coolwarm':\n",
    "        cmap=pylab.cm.coolwarm\n",
    "\n",
    "    ### Scale the max and min colors so that 0 is white/black\n",
    "    vmin=x.min()\n",
    "    vmax=x.max()\n",
    "    vmax = max([vmax,abs(vmin)])\n",
    "    # vmin = vmax*-1\n",
    "    # norm = mpl.colors.Normalize(vmin/2, vmax/2) ### adjust the max and min to scale these colors\n",
    "    norm = mpl.colors.Normalize(vmin, vmax)\n",
    "    ### Scale the Matplotlib window size\n",
    "    default_window_hight = 8.5\n",
    "    default_window_width = 12\n",
    "    fig = pylab.figure(figsize=(default_window_width,default_window_hight)) ### could use m,n to scale here\n",
    "    color_bar_w = 0.015 ### Sufficient size to show\n",
    "        \n",
    "    ## calculate positions for all elements\n",
    "    # ax1, placement of dendrogram 1, on the left of the heatmap\n",
    "    #if row_method != None: w1 = \n",
    "    [ax1_x, ax1_y, ax1_w, ax1_h] = [0.05,0.22,0.2,0.6]   ### The second value controls the position of the matrix relative to the bottom of the view\n",
    "    width_between_ax1_axr = 0.004\n",
    "    height_between_ax1_axc = 0.004 ### distance between the top color bar axis and the matrix\n",
    "    \n",
    "    # axr, placement of row side colorbar\n",
    "    [axr_x, axr_y, axr_w, axr_h] = [0.31,0.1,color_bar_w,0.6] ### second to last controls the width of the side color bar - 0.015 when showing\n",
    "    axr_x = ax1_x + ax1_w + width_between_ax1_axr\n",
    "    axr_y = ax1_y; axr_h = ax1_h\n",
    "    width_between_axr_axm = 0.004\n",
    "\n",
    "    # axc, placement of column side colorbar\n",
    "    [axc_x, axc_y, axc_w, axc_h] = [0.4,0.63,0.5,color_bar_w] ### last one controls the hight of the top color bar - 0.015 when showing\n",
    "    axc_x = axr_x + axr_w + width_between_axr_axm\n",
    "    axc_y = ax1_y + ax1_h + height_between_ax1_axc\n",
    "    height_between_axc_ax2 = 0.004\n",
    "\n",
    "    # axm, placement of heatmap for the data matrix\n",
    "    [axm_x, axm_y, axm_w, axm_h] = [0.4,0.9,2.5,0.5]\n",
    "    axm_x = axr_x + axr_w + width_between_axr_axm\n",
    "    axm_y = ax1_y; axm_h = ax1_h\n",
    "    axm_w = axc_w\n",
    "\n",
    "    # ax2, placement of dendrogram 2, on the top of the heatmap\n",
    "    [ax2_x, ax2_y, ax2_w, ax2_h] = [0.3,0.72,0.6,0.15] ### last one controls hight of the dendrogram\n",
    "    ax2_x = axr_x + axr_w + width_between_axr_axm\n",
    "    ax2_y = ax1_y + ax1_h + height_between_ax1_axc + axc_h + height_between_axc_ax2\n",
    "    ax2_w = axc_w\n",
    "\n",
    "    # axcb - placement of the color legend\n",
    "    [axcb_x, axcb_y, axcb_w, axcb_h] = [0.07,0.88,0.18,0.09]\n",
    "\n",
    "    # Compute and plot top dendrogram\n",
    "    if column_method != None:\n",
    "        start_time = time.time()\n",
    "        d2 = dist.pdist(x.T)\n",
    "        D2 = dist.squareform(d2)\n",
    "        ax2 = fig.add_axes([ax2_x, ax2_y, ax2_w, ax2_h], frame_on=True)\n",
    "        Y2 = sch.linkage(D2, method=column_method, metric=column_metric) ### array-clustering metric - 'average', 'single', 'centroid', 'complete'\n",
    "        Z2 = sch.dendrogram(Y2)\n",
    "        ind2 = sch.fcluster(Y2,0.7*max(Y2[:,2]),'distance') ### This is the default behavior of dendrogram\n",
    "        ax2.set_xticks([]) ### Hides ticks\n",
    "        ax2.set_yticks([])\n",
    "        time_diff = str(round(time.time()-start_time,1))\n",
    "        print('Column clustering completed in {} seconds'.format(time_diff))\n",
    "    else:\n",
    "        ind2 = ['NA']*len(column_header) ### Used for exporting the flat cluster data\n",
    "        \n",
    "    # Compute and plot left dendrogram.\n",
    "    if row_method != None:\n",
    "        start_time = time.time()\n",
    "        d1 = dist.pdist(x)\n",
    "        D1 = dist.squareform(d1)  # full matrix\n",
    "        ax1 = fig.add_axes([ax1_x, ax1_y, ax1_w, ax1_h], frame_on=True) # frame_on may be False\n",
    "        Y1 = sch.linkage(D1, method=row_method, metric=row_metric) ### gene-clustering metric - 'average', 'single', 'centroid', 'complete'\n",
    "        Z1 = sch.dendrogram(Y1, orientation='right')\n",
    "        ind1 = sch.fcluster(Y1,0.7*max(Y1[:,2]),'distance') ### This is the default behavior of dendrogram\n",
    "        # print 'ind1', ind1\n",
    "        ax1.set_xticks([]) ### Hides ticks\n",
    "        ax1.set_yticks([])\n",
    "        time_diff = str(round(time.time()-start_time,1))\n",
    "        print('Row clustering completed in {} seconds'.format(time_diff))\n",
    "    else:\n",
    "        ind1 = ['NA']*len(row_header) ### Used for exporting the flat cluster data\n",
    "        \n",
    "    # Plot distance matrix.\n",
    "    axm = fig.add_axes([axm_x, axm_y, axm_w, axm_h])  # axes for the data matrix\n",
    "    xt = x\n",
    "    if column_method != None:\n",
    "        idx2 = Z2['leaves'] ### apply the clustering for the array-dendrograms to the actual matrix data\n",
    "        xt = xt[:,idx2]\n",
    "        # print 'idx2', idx2, len(idx2)\n",
    "        # print 'ind2', ind2, len(ind2)\n",
    "        ind2 = [ind2[i] for i in idx2]\n",
    "        # ind2 = ind2[:,idx2] ### reorder the flat cluster to match the order of the leaves the dendrogram\n",
    "    if row_method != None:\n",
    "        idx1 = Z1['leaves'] ### apply the clustering for the gene-dendrograms to the actual matrix data\n",
    "        xt = xt[idx1,:]   # xt is transformed x\n",
    "        # ind1 = ind1[idx1,:] ### reorder the flat cluster to match the order of the leaves the dendrogram\n",
    "        ind1 = [ind1[i] for i in idx1]\n",
    "    ### taken from http://stackoverflow.com/questions/2982929/plotting-results-of-hierarchical-clustering-ontop-of-a-matrix-of-data-in-python/3011894#3011894\n",
    "    # print xt\n",
    "    im = axm.matshow(xt, aspect='auto', origin='lower', cmap=cmap, norm=norm) ### norm=norm added to scale coloring of expression with zero = white or black\n",
    "    axm.set_xticks([]) ### Hides x-ticks\n",
    "    axm.set_yticks([])\n",
    "\n",
    "    # Add text\n",
    "    new_row_header=[]\n",
    "    new_column_header=[]\n",
    "    for i in range(x.shape[0]):\n",
    "        if row_method != None:\n",
    "            if len(row_header)<100: ### Don't visualize gene associations when more than 100 rows\n",
    "                axm.text(x.shape[1]-0.5, i, '  '+row_header[idx1[i]])\n",
    "            new_row_header.append(row_header[idx1[i]])\n",
    "        else:\n",
    "            if len(row_header)<100: ### Don't visualize gene associations when more than 100 rows\n",
    "                axm.text(x.shape[1]-0.5, i, '  '+row_header[i]) ### When not clustering rows\n",
    "            new_row_header.append(row_header[i])\n",
    "    for i in range(x.shape[1]):\n",
    "        if column_method != None:\n",
    "            axm.text(i, -0.9, ' '+column_header[idx2[i]], rotation=270, verticalalignment=\"top\") # rotation could also be degrees\n",
    "            new_column_header.append(column_header[idx2[i]])\n",
    "        else: ### When not clustering columns\n",
    "            axm.text(i, -0.9, ' '+column_header[i], rotation=270, verticalalignment=\"top\")\n",
    "            new_column_header.append(column_header[i])\n",
    "\n",
    "    for j in range(x.shape[0]):\n",
    "        if row_method != None:\n",
    "            axm.text(len(new_column_header)+1, j, ' '+row_header[idx1[j]], rotation=0, verticalalignment=\"top\") # rotation could also be degrees\n",
    "            new_row_header.append(row_header[idx1[j]])\n",
    "        else: ### When not clustering columns\n",
    "            axm.text(len(new_column_header)+1, j, ' '+row_header[j], rotation=0, verticalalignment=\"top\")\n",
    "            new_row_header.append(row_header[j])\n",
    "\n",
    "    # Plot colside colors\n",
    "    # axc --> axes for column side colorbar\n",
    "    if column_method != None:\n",
    "        axc = fig.add_axes([axc_x, axc_y, axc_w, axc_h])  # axes for column side colorbar\n",
    "        cmap_c = mpl.colors.ListedColormap(['r', 'g', 'b', 'y', 'w', 'k', 'm'])\n",
    "        dc = np.array(ind2, dtype=int)\n",
    "        dc.shape = (1,len(ind2)) \n",
    "        im_c = axc.matshow(dc, aspect='auto', origin='lower', cmap=cmap_c)\n",
    "        axc.set_xticks([]) ### Hides ticks\n",
    "        axc.set_yticks([])\n",
    "    \n",
    "    # Plot rowside colors\n",
    "    # axr --> axes for row side colorbar\n",
    "    if row_method != None:\n",
    "        axr = fig.add_axes([axr_x, axr_y, axr_w, axr_h])  # axes for column side colorbar\n",
    "        dr = np.array(ind1, dtype=int)\n",
    "        dr.shape = (len(ind1),1)\n",
    "        #print ind1, len(ind1)\n",
    "        cmap_r = mpl.colors.ListedColormap(['r', 'g', 'b', 'y', 'w', 'k', 'm'])\n",
    "        im_r = axr.matshow(dr, aspect='auto', origin='lower', cmap=cmap_r)\n",
    "        axr.set_xticks([]) ### Hides ticks\n",
    "        axr.set_yticks([])\n",
    "\n",
    "    # Plot color legend\n",
    "    axcb = fig.add_axes([axcb_x, axcb_y, axcb_w, axcb_h], frame_on=False)  # axes for colorbar\n",
    "    # print 'axcb', axcb\n",
    "    cb = mpl.colorbar.ColorbarBase(axcb, cmap=cmap, norm=norm, orientation='horizontal')\n",
    "    # print cb\n",
    "    axcb.set_title(\"colorkey\")\n",
    "    \n",
    "    cb.set_label(\"Differential Expression (log2 fold)\")\n",
    "\n",
    "    ### Render the graphic\n",
    "    if len(row_header)>50 or len(column_header)>50:\n",
    "        pylab.rcParams['font.size'] = 5\n",
    "    else:\n",
    "        pylab.rcParams['font.size'] = 8\n",
    "\n",
    "    pylab.show()"
   ]
  },
  {
   "cell_type": "code",
   "execution_count": 9,
   "metadata": {},
   "outputs": [
    {
     "name": "stdout",
     "output_type": "stream",
     "text": [
      "\n",
      "Performing hiearchical clustering using euclidean for columns and euclidean for rows\n"
     ]
    },
    {
     "name": "stderr",
     "output_type": "stream",
     "text": [
      "/usr/lib/python3.6/site-packages/ipykernel_launcher.py:92: ClusterWarning: scipy.cluster: The symmetric non-negative hollow observation matrix looks suspiciously like an uncondensed distance matrix\n",
      "/usr/lib/python3.6/site-packages/ipykernel_launcher.py:108: ClusterWarning: scipy.cluster: The symmetric non-negative hollow observation matrix looks suspiciously like an uncondensed distance matrix\n"
     ]
    },
    {
     "name": "stdout",
     "output_type": "stream",
     "text": [
      "Column clustering completed in 0.1 seconds\n",
      "Row clustering completed in 0.1 seconds\n"
     ]
    },
    {
     "data": {
      "image/png": "[encoded data removed]",
      "text/plain": [
       "<Figure size 864x612 with 6 Axes>"
      ]
     },
     "metadata": {},
     "output_type": "display_data"
    }
   ],
   "source": [
    "row_method = 'average'\n",
    "column_method = 'single'\n",
    "row_metric = 'euclidean'#'cityblock' #cosine\n",
    "column_metric = 'euclidean'\n",
    "color_gradient = 'coolwarm'#'red_white_blue\n",
    "heatmap(X, row_method, column_method, row_metric, column_metric, color_gradient)"
   ]
  },
  {
   "cell_type": "markdown",
   "metadata": {},
   "source": [
    "### Principal component analysis"
   ]
  },
  {
   "cell_type": "code",
   "execution_count": 10,
   "metadata": {},
   "outputs": [],
   "source": [
    "def pca(X, y):\n",
    "    \"\"\" Perform and plot PCA \"\"\"\n",
    "    \n",
    "    y = np.array(y).T[0]\n",
    "    target_names = ['zero', 'one'] # TODO\n",
    "    \n",
    "    pca = PCA(n_components=2)\n",
    "    X_r = pca.fit(X).transform(X)\n",
    "\n",
    "    print('Explained variance ratio (first two components): {}'.format(pca.explained_variance_ratio_))\n",
    "\n",
    "    for i, target_name in zip([0, 1], target_names):\n",
    "        plt.scatter(X_r[y == i, 0], X_r[y == i, 1], alpha=.8, lw=2, label=target_name) # color=color,\n",
    "\n",
    "    plt.legend(loc='best', shadow=False, scatterpoints=1)\n",
    "    plt.title('PCA of dataset')\n",
    "    plt.show()"
   ]
  },
  {
   "cell_type": "code",
   "execution_count": 11,
   "metadata": {},
   "outputs": [
    {
     "name": "stdout",
     "output_type": "stream",
     "text": [
      "Explained variance ratio (first two components): [0.28945153 0.21634541]\n"
     ]
    },
    {
     "data": {
      "image/png": "[encoded data removed]",
      "text/plain": [
       "<Figure size 432x288 with 1 Axes>"
      ]
     },
     "metadata": {},
     "output_type": "display_data"
    }
   ],
   "source": [
    "pca(X, y)"
   ]
  },
  {
   "cell_type": "markdown",
   "metadata": {},
   "source": [
    "### Linear discriminant analysis"
   ]
  },
  {
   "cell_type": "code",
   "execution_count": 12,
   "metadata": {},
   "outputs": [],
   "source": [
    "def lda(X, y):\n",
    "    \"\"\" Perform and plot LDA \"\"\"\n",
    "\n",
    "    y = np.array(y).T[0]\n",
    "    target_names = ['zero', 'one'] # TODO\n",
    "    \n",
    "    lda = LinearDiscriminantAnalysis(n_components=2)\n",
    "    X_r = lda.fit(X, y).transform(X)\n",
    "\n",
    "    for i, target_name in zip([0, 1], target_names):\n",
    "        plt.scatter(X_r[y == i, 0], X_r[y == i, 1], alpha=.8, label=target_name)\n",
    "    \n",
    "    plt.legend(loc='best', shadow=False, scatterpoints=1)\n",
    "    plt.title('LDA of dataset')\n",
    "    plt.show()"
   ]
  },
  {
   "cell_type": "code",
   "execution_count": 13,
   "metadata": {},
   "outputs": [],
   "source": [
    "nb_classes = 2 # TODO auto\n",
    "if nb_classes > 2:\n",
    "    lda(X, y)"
   ]
  },
  {
   "cell_type": "markdown",
   "metadata": {},
   "source": [
    "### T-SNE"
   ]
  },
  {
   "cell_type": "code",
   "execution_count": 24,
   "metadata": {},
   "outputs": [],
   "source": [
    "def tsne(X, y):\n",
    "    \"\"\" Perform and plot T-SNE algorithm \"\"\"\n",
    "\n",
    "    y = np.array(y).T[0]\n",
    "    target_names = ['zero', 'one'] # TODO\n",
    "    \n",
    "    X_embedded = TSNE(n_components=2).fit_transform(X)\n",
    "\n",
    "    for i, target_name in zip([0, 1], target_names):\n",
    "        plt.scatter(X_embedded[y == i, 0], X_embedded[y == i, 1], alpha=.8, lw=2, label=target_name) # color=color,\n",
    "\n",
    "    plt.legend(loc='best', shadow=False, scatterpoints=1)\n",
    "    plt.title('PCA of dataset')\n",
    "    plt.show()\n",
    "    "
   ]
  },
  {
   "cell_type": "code",
   "execution_count": 25,
   "metadata": {},
   "outputs": [
    {
     "data": {
      "image/png": "[encoded data removed]",
      "text/plain": [
       "<Figure size 432x288 with 1 Axes>"
      ]
     },
     "metadata": {},
     "output_type": "display_data"
    }
   ],
   "source": [
    "tsne(X, y)"
   ]
  },
  {
   "cell_type": "markdown",
   "metadata": {},
   "source": [
    "### Feature selection"
   ]
  },
  {
   "cell_type": "markdown",
   "metadata": {},
   "source": [
    "### Individual variable distribution"
   ]
  },
  {
   "cell_type": "code",
   "execution_count": null,
   "metadata": {},
   "outputs": [],
   "source": []
  },
  {
   "cell_type": "markdown",
   "metadata": {},
   "source": [
    "# Meta features"
   ]
  },
  {
   "cell_type": "code",
   "execution_count": null,
   "metadata": {},
   "outputs": [],
   "source": []
  }
 ],
 "metadata": {
  "kernelspec": {
   "display_name": "Python 3",
   "language": "python",
   "name": "python3"
  },
  "language_info": {
   "codemirror_mode": {
    "name": "ipython",
    "version": 3
   },
   "file_extension": ".py",
   "mimetype": "text/x-python",
   "name": "python",
   "nbconvert_exporter": "python",
   "pygments_lexer": "ipython3",
   "version": "3.6.4"
  }
 },
 "nbformat": 4,
 "nbformat_minor": 2
}

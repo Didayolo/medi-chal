{
 "cells": [
  {
   "cell_type": "markdown",
   "metadata": {},
   "source": [
    "# Comparing data distributions\n",
    "\n",
    "** We want to compare the different representations and meta-features of two distributions to characterize their similarities and differences (e.g. original data VS generated data). **\n",
    "\n",
    "- Data format : autoML"
   ]
  },
  {
   "cell_type": "code",
   "execution_count": 143,
   "metadata": {},
   "outputs": [],
   "source": [
    "data_dir = '../../data'\n",
    "\n",
    "datasets = {'iris': (data_dir + '/iris', 'iris'),\n",
    "            'iris_1': (data_dir + '/iris_1', 'iris'),\n",
    "            'iris_2': (data_dir + '/iris_2', 'iris'),\n",
    "            'mimic': (data_dir + '/mimic', 'mimic'),\n",
    "            'mimic_artif': (data_dir + '/mimic', 'mimic_artif'),\n",
    "            'mushrooms': (data_dir + '/mushrooms', 'mushrooms'),\n",
    "            'mushrooms_gen_sam': (data_dir + '/mushrooms_gen_sam', 'mushrooms_gen_sam'),\n",
    "            'chems': (data_dir + '/chems', 'chems'),\n",
    "            'credit': (data_dir + '/credit_data', 'credit'),\n",
    "            'squares': (data_dir + '/squares', 'squares'),\n",
    "            'squares_2': (data_dir + '/squares_2', 'squares'),\n",
    "            'titanic' : (data_dir + '/titanic', 'titanic'),\n",
    "            'adult' : (data_dir + '/adult', 'adult'),\n",
    "            'adult2' : (data_dir + '/adult2', 'adult2'),\n",
    "            'adult_gen_sam' : (data_dir + '/adult_gen_sam', 'adult_gen_sam')}\n",
    "\n",
    "# First dataset.\n",
    "input_dir1, basename1 = datasets['mushrooms']\n",
    "#input_dir1, basename1 = datasets['mimic']\n",
    "\n",
    "# Second dataset.\n",
    "input_dir2, basename2 = datasets['mushrooms']\n",
    "#input_dir2, basename2 = datasets['mimic_artif']"
   ]
  },
  {
   "cell_type": "code",
   "execution_count": 167,
   "metadata": {},
   "outputs": [],
   "source": [
    "input_dir1, basename1 = '../../data/systematic_study_data/iris', 'iris_train_sdv'\n",
    "input_dir2, basename2 = '../../data/systematic_study_data/iris', 'iris_mg'"
   ]
  },
  {
   "cell_type": "markdown",
   "metadata": {},
   "source": [
    "## Comparison\n",
    "\n",
    "- ** Overall meta-features ** (descriptors): we compute simple distances between the descriptors of each dataset.\n",
    "- ** Individual features/variables ** (column comparison):\n",
    "\n",
    "    - Numerical:\n",
    "        - Kolmogorov-Smirnov test\n",
    "        \n",
    "    - Categorical, binary:\n",
    "        - Mutual information score: This is equal to the Kullback-Leibler divergence of the joint distribution with the product distribution of the marginals\n",
    "        - Kullback-Leibler divergence\n",
    "        - Jensen-Shannon divergence\n",
    "\n",
    "- ** Discriminant ** (row comparison): we label the data with 0 or 1 according to their original dataset and then train a binary classifier on it. This is the method used to train GANs. More sophisticated the classifier which succeeds in separating the data is, more similar they are. If the classifier can't separate the data, maybe they are to similar, maybe the classifier isn't good enough. \n",
    "- ** Landmark: ** performance in prediction of the target among various models and metrics.\n",
    "- ** Change of representations: ** we train an auto-encoder on dataset A and benchmark it on dataset B (and reciprocally). The intuition behind this is that similar data will be compressible in the same latent space. This principle could be applied to other changes of representation.\n",
    "- ** Causal inference: ** comparison of causal inference results. Do we notice the same causal links between the variables?\n",
    "\n",
    "Draft:\n",
    "- Wasserstein distance (minimum cost of turning one \"pile of dirt\" into the other)\n",
    "- Chi square\n",
    "- Metrics of **privacy** and **resemblance** between two datasets:\n",
    "    - Area under MDA curve with threshold\n",
    "    - MMD"
   ]
  },
  {
   "cell_type": "code",
   "execution_count": 168,
   "metadata": {},
   "outputs": [],
   "source": [
    "# AutoML\n",
    "import sys\n",
    "main_path = '../../'\n",
    "sys.path.append(main_path + 'code/auto_ml')\n",
    "sys.path.append(main_path + 'code/processing')\n",
    "sys.path.append(main_path + 'code/functions')\n",
    "sys.path.append(main_path + 'code/models')\n",
    "sys.path.append(main_path + 'data')\n",
    "\n",
    "%matplotlib inline\n",
    "%reload_ext autoreload\n",
    "%autoreload 2\n",
    "\n",
    "from auto_ml import AutoML\n",
    "from comparator import Comparator"
   ]
  },
  {
   "cell_type": "markdown",
   "metadata": {},
   "source": [
    "### Read data"
   ]
  },
  {
   "cell_type": "code",
   "execution_count": 169,
   "metadata": {},
   "outputs": [],
   "source": [
    "# From AutoML\n",
    "ds1 = AutoML(input_dir1, basename1)\n",
    "ds2 = AutoML(input_dir2, basename2)"
   ]
  },
  {
   "cell_type": "code",
   "execution_count": 28,
   "metadata": {},
   "outputs": [],
   "source": [
    "# From CSV\n",
    "ds1 = AutoML.from_csv(input_dir1, basename1, 'iris_sdv.csv')\n",
    "ds2 = AutoML.from_csv(input_dir2, basename2, 'iris_mg.csv')"
   ]
  },
  {
   "cell_type": "code",
   "execution_count": 170,
   "metadata": {},
   "outputs": [
    {
     "name": "stdout",
     "output_type": "stream",
     "text": [
      "ds1 train/test comparator\n",
      "1 dataset detected: comparison between train and test sets.\n",
      "\n",
      "ds1/ds2 comparator\n",
      "2 datasets detected: ready for comparison.\n"
     ]
    }
   ],
   "source": [
    "# Auto-comparator\n",
    "print('ds1 train/test comparator')\n",
    "auto_comparator = Comparator(ds1)\n",
    "\n",
    "# Comparator\n",
    "print('\\nds1/ds2 comparator')\n",
    "comparator = Comparator(ds1, ds2)"
   ]
  },
  {
   "cell_type": "markdown",
   "metadata": {},
   "source": [
    "### Visualization"
   ]
  },
  {
   "cell_type": "code",
   "execution_count": 147,
   "metadata": {},
   "outputs": [
    {
     "data": {
      "text/html": [
       "<div>\n",
       "<style scoped>\n",
       "    .dataframe tbody tr th:only-of-type {\n",
       "        vertical-align: middle;\n",
       "    }\n",
       "\n",
       "    .dataframe tbody tr th {\n",
       "        vertical-align: top;\n",
       "    }\n",
       "\n",
       "    .dataframe thead th {\n",
       "        text-align: right;\n",
       "    }\n",
       "</style>\n",
       "<table border=\"1\" class=\"dataframe\">\n",
       "  <thead>\n",
       "    <tr style=\"text-align: right;\">\n",
       "      <th></th>\n",
       "      <th>cap-shape</th>\n",
       "      <th>cap-surface</th>\n",
       "      <th>cap-color</th>\n",
       "      <th>bruises</th>\n",
       "      <th>odor</th>\n",
       "      <th>gill-attachment</th>\n",
       "      <th>gill-spacing</th>\n",
       "      <th>gill-size</th>\n",
       "      <th>gill-color</th>\n",
       "      <th>stalk-shape</th>\n",
       "      <th>...</th>\n",
       "      <th>stalk-surface-below-ring</th>\n",
       "      <th>stalk-color-above-ring</th>\n",
       "      <th>stalk-color-below-ring</th>\n",
       "      <th>veil-type</th>\n",
       "      <th>veil-color</th>\n",
       "      <th>ring-number</th>\n",
       "      <th>ring-type</th>\n",
       "      <th>spore-print-color</th>\n",
       "      <th>population</th>\n",
       "      <th>habitat</th>\n",
       "    </tr>\n",
       "  </thead>\n",
       "  <tbody>\n",
       "    <tr>\n",
       "      <th>Type</th>\n",
       "      <td>Categorical</td>\n",
       "      <td>Categorical</td>\n",
       "      <td>Categorical</td>\n",
       "      <td>Binary</td>\n",
       "      <td>Categorical</td>\n",
       "      <td>Binary</td>\n",
       "      <td>Binary</td>\n",
       "      <td>Binary</td>\n",
       "      <td>Categorical</td>\n",
       "      <td>Binary</td>\n",
       "      <td>...</td>\n",
       "      <td>Categorical</td>\n",
       "      <td>Categorical</td>\n",
       "      <td>Categorical</td>\n",
       "      <td>Categorical</td>\n",
       "      <td>Categorical</td>\n",
       "      <td>Categorical</td>\n",
       "      <td>Categorical</td>\n",
       "      <td>Categorical</td>\n",
       "      <td>Categorical</td>\n",
       "      <td>Categorical</td>\n",
       "    </tr>\n",
       "  </tbody>\n",
       "</table>\n",
       "<p>1 rows × 22 columns</p>\n",
       "</div>"
      ],
      "text/plain": [
       "        cap-shape  cap-surface    cap-color bruises         odor  \\\n",
       "Type  Categorical  Categorical  Categorical  Binary  Categorical   \n",
       "\n",
       "     gill-attachment gill-spacing gill-size   gill-color stalk-shape  \\\n",
       "Type          Binary       Binary    Binary  Categorical      Binary   \n",
       "\n",
       "         ...      stalk-surface-below-ring stalk-color-above-ring  \\\n",
       "Type     ...                   Categorical            Categorical   \n",
       "\n",
       "     stalk-color-below-ring    veil-type   veil-color  ring-number  \\\n",
       "Type            Categorical  Categorical  Categorical  Categorical   \n",
       "\n",
       "        ring-type spore-print-color   population      habitat  \n",
       "Type  Categorical       Categorical  Categorical  Categorical  \n",
       "\n",
       "[1 rows x 22 columns]"
      ]
     },
     "metadata": {},
     "output_type": "display_data"
    }
   ],
   "source": [
    "ds1.show_feat_type()"
   ]
  },
  {
   "cell_type": "markdown",
   "metadata": {},
   "source": [
    "### Processing"
   ]
  },
  {
   "cell_type": "code",
   "execution_count": 148,
   "metadata": {},
   "outputs": [],
   "source": [
    "auto_comparator.process_data()\n",
    "comparator.process_data()"
   ]
  },
  {
   "cell_type": "markdown",
   "metadata": {},
   "source": [
    "### Distance between descriptors"
   ]
  },
  {
   "cell_type": "code",
   "execution_count": 149,
   "metadata": {},
   "outputs": [
    {
     "name": "stdout",
     "output_type": "stream",
     "text": [
      "Ratio: 0.012692307692307692\n",
      "Symb ratio: 0.0\n",
      "Class deviation: nan\n",
      "Missing proba: 0.0\n",
      "Skewness min: 0.5418470094122423\n",
      "Skewness max: 0.11848164518192039\n",
      "Skewness mean: 0.013986004906850313\n",
      "\n",
      "Ratio: 0.0\n",
      "Symb ratio: 0.0\n",
      "Class deviation: nan\n",
      "Missing proba: 0.0\n",
      "Skewness min: 0.0\n",
      "Skewness max: 0.0\n",
      "Skewness mean: 0.0\n"
     ]
    }
   ],
   "source": [
    "comparator.compute_descriptors(norm='euclidean')\n",
    "auto_comparator.show_descriptors()\n",
    "print()\n",
    "comparator.show_descriptors()"
   ]
  },
  {
   "cell_type": "markdown",
   "metadata": {},
   "source": [
    "### Individual features comparison"
   ]
  },
  {
   "cell_type": "code",
   "execution_count": 164,
   "metadata": {},
   "outputs": [
    {
     "data": {
      "text/html": [
       "<div>\n",
       "<style scoped>\n",
       "    .dataframe tbody tr th:only-of-type {\n",
       "        vertical-align: middle;\n",
       "    }\n",
       "\n",
       "    .dataframe tbody tr th {\n",
       "        vertical-align: top;\n",
       "    }\n",
       "\n",
       "    .dataframe thead th {\n",
       "        text-align: right;\n",
       "    }\n",
       "</style>\n",
       "<table border=\"1\" class=\"dataframe\">\n",
       "  <thead>\n",
       "    <tr style=\"text-align: right;\">\n",
       "      <th></th>\n",
       "      <th>cap-shape</th>\n",
       "      <th>cap-surface</th>\n",
       "      <th>cap-color</th>\n",
       "      <th>bruises</th>\n",
       "      <th>odor</th>\n",
       "      <th>gill-attachment</th>\n",
       "      <th>gill-spacing</th>\n",
       "      <th>gill-size</th>\n",
       "      <th>gill-color</th>\n",
       "      <th>stalk-shape</th>\n",
       "      <th>...</th>\n",
       "      <th>stalk-surface-below-ring</th>\n",
       "      <th>stalk-color-above-ring</th>\n",
       "      <th>stalk-color-below-ring</th>\n",
       "      <th>veil-type</th>\n",
       "      <th>veil-color</th>\n",
       "      <th>ring-number</th>\n",
       "      <th>ring-type</th>\n",
       "      <th>spore-print-color</th>\n",
       "      <th>population</th>\n",
       "      <th>habitat</th>\n",
       "    </tr>\n",
       "  </thead>\n",
       "  <tbody>\n",
       "    <tr>\n",
       "      <th>Kullback-Leibler divergence</th>\n",
       "      <td>(0.002, 0.002)</td>\n",
       "      <td>NaN</td>\n",
       "      <td>NaN</td>\n",
       "      <td>NaN</td>\n",
       "      <td>NaN</td>\n",
       "      <td>NaN</td>\n",
       "      <td>NaN</td>\n",
       "      <td>NaN</td>\n",
       "      <td>NaN</td>\n",
       "      <td>NaN</td>\n",
       "      <td>...</td>\n",
       "      <td>NaN</td>\n",
       "      <td>NaN</td>\n",
       "      <td>NaN</td>\n",
       "      <td>NaN</td>\n",
       "      <td>NaN</td>\n",
       "      <td>NaN</td>\n",
       "      <td>NaN</td>\n",
       "      <td>NaN</td>\n",
       "      <td>NaN</td>\n",
       "      <td>NaN</td>\n",
       "    </tr>\n",
       "    <tr>\n",
       "      <th>Mutual information</th>\n",
       "      <td>1.792</td>\n",
       "      <td>NaN</td>\n",
       "      <td>NaN</td>\n",
       "      <td>NaN</td>\n",
       "      <td>NaN</td>\n",
       "      <td>NaN</td>\n",
       "      <td>NaN</td>\n",
       "      <td>NaN</td>\n",
       "      <td>NaN</td>\n",
       "      <td>NaN</td>\n",
       "      <td>...</td>\n",
       "      <td>NaN</td>\n",
       "      <td>NaN</td>\n",
       "      <td>NaN</td>\n",
       "      <td>NaN</td>\n",
       "      <td>NaN</td>\n",
       "      <td>NaN</td>\n",
       "      <td>NaN</td>\n",
       "      <td>NaN</td>\n",
       "      <td>NaN</td>\n",
       "      <td>NaN</td>\n",
       "    </tr>\n",
       "    <tr>\n",
       "      <th>Jensen-Shannon divergence</th>\n",
       "      <td>0</td>\n",
       "      <td>NaN</td>\n",
       "      <td>NaN</td>\n",
       "      <td>NaN</td>\n",
       "      <td>NaN</td>\n",
       "      <td>NaN</td>\n",
       "      <td>NaN</td>\n",
       "      <td>NaN</td>\n",
       "      <td>NaN</td>\n",
       "      <td>NaN</td>\n",
       "      <td>...</td>\n",
       "      <td>NaN</td>\n",
       "      <td>NaN</td>\n",
       "      <td>NaN</td>\n",
       "      <td>NaN</td>\n",
       "      <td>NaN</td>\n",
       "      <td>NaN</td>\n",
       "      <td>NaN</td>\n",
       "      <td>NaN</td>\n",
       "      <td>NaN</td>\n",
       "      <td>NaN</td>\n",
       "    </tr>\n",
       "  </tbody>\n",
       "</table>\n",
       "<p>3 rows × 22 columns</p>\n",
       "</div>"
      ],
      "text/plain": [
       "                                  cap-shape cap-surface cap-color bruises  \\\n",
       "Kullback-Leibler divergence  (0.002, 0.002)         NaN       NaN     NaN   \n",
       "Mutual information                    1.792         NaN       NaN     NaN   \n",
       "Jensen-Shannon divergence                 0         NaN       NaN     NaN   \n",
       "\n",
       "                            odor gill-attachment gill-spacing gill-size  \\\n",
       "Kullback-Leibler divergence  NaN             NaN          NaN       NaN   \n",
       "Mutual information           NaN             NaN          NaN       NaN   \n",
       "Jensen-Shannon divergence    NaN             NaN          NaN       NaN   \n",
       "\n",
       "                            gill-color stalk-shape   ...    \\\n",
       "Kullback-Leibler divergence        NaN         NaN   ...     \n",
       "Mutual information                 NaN         NaN   ...     \n",
       "Jensen-Shannon divergence          NaN         NaN   ...     \n",
       "\n",
       "                            stalk-surface-below-ring stalk-color-above-ring  \\\n",
       "Kullback-Leibler divergence                      NaN                    NaN   \n",
       "Mutual information                               NaN                    NaN   \n",
       "Jensen-Shannon divergence                        NaN                    NaN   \n",
       "\n",
       "                            stalk-color-below-ring veil-type veil-color  \\\n",
       "Kullback-Leibler divergence                    NaN       NaN        NaN   \n",
       "Mutual information                             NaN       NaN        NaN   \n",
       "Jensen-Shannon divergence                      NaN       NaN        NaN   \n",
       "\n",
       "                            ring-number ring-type spore-print-color  \\\n",
       "Kullback-Leibler divergence         NaN       NaN               NaN   \n",
       "Mutual information                  NaN       NaN               NaN   \n",
       "Jensen-Shannon divergence           NaN       NaN               NaN   \n",
       "\n",
       "                            population habitat  \n",
       "Kullback-Leibler divergence        NaN     NaN  \n",
       "Mutual information                 NaN     NaN  \n",
       "Jensen-Shannon divergence          NaN     NaN  \n",
       "\n",
       "[3 rows x 22 columns]"
      ]
     },
     "metadata": {},
     "output_type": "display_data"
    },
    {
     "data": {
      "text/html": [
       "<div>\n",
       "<style scoped>\n",
       "    .dataframe tbody tr th:only-of-type {\n",
       "        vertical-align: middle;\n",
       "    }\n",
       "\n",
       "    .dataframe tbody tr th {\n",
       "        vertical-align: top;\n",
       "    }\n",
       "\n",
       "    .dataframe thead th {\n",
       "        text-align: right;\n",
       "    }\n",
       "</style>\n",
       "<table border=\"1\" class=\"dataframe\">\n",
       "  <thead>\n",
       "    <tr style=\"text-align: right;\">\n",
       "      <th></th>\n",
       "      <th>cap-shape</th>\n",
       "      <th>cap-surface</th>\n",
       "      <th>cap-color</th>\n",
       "      <th>bruises</th>\n",
       "      <th>odor</th>\n",
       "      <th>gill-attachment</th>\n",
       "      <th>gill-spacing</th>\n",
       "      <th>gill-size</th>\n",
       "      <th>gill-color</th>\n",
       "      <th>stalk-shape</th>\n",
       "      <th>...</th>\n",
       "      <th>stalk-surface-below-ring</th>\n",
       "      <th>stalk-color-above-ring</th>\n",
       "      <th>stalk-color-below-ring</th>\n",
       "      <th>veil-type</th>\n",
       "      <th>veil-color</th>\n",
       "      <th>ring-number</th>\n",
       "      <th>ring-type</th>\n",
       "      <th>spore-print-color</th>\n",
       "      <th>population</th>\n",
       "      <th>habitat</th>\n",
       "    </tr>\n",
       "  </thead>\n",
       "  <tbody>\n",
       "    <tr>\n",
       "      <th>Kullback-Leibler divergence</th>\n",
       "      <td>(0.0, 0.0)</td>\n",
       "      <td>(0.0, 0.0)</td>\n",
       "      <td>(0.0, 0.0)</td>\n",
       "      <td>(0.0, 0.0)</td>\n",
       "      <td>(0.0, 0.0)</td>\n",
       "      <td>(0.0, 0.0)</td>\n",
       "      <td>(0.0, 0.0)</td>\n",
       "      <td>(0.0, 0.0)</td>\n",
       "      <td>(0.0, 0.0)</td>\n",
       "      <td>(0.0, 0.0)</td>\n",
       "      <td>...</td>\n",
       "      <td>(0.0, 0.0)</td>\n",
       "      <td>(0.0, 0.0)</td>\n",
       "      <td>(0.0, 0.0)</td>\n",
       "      <td>(0.0, 0.0)</td>\n",
       "      <td>(0.0, 0.0)</td>\n",
       "      <td>(0.0, 0.0)</td>\n",
       "      <td>(0.0, 0.0)</td>\n",
       "      <td>(0.0, 0.0)</td>\n",
       "      <td>(0.0, 0.0)</td>\n",
       "      <td>(0.0, 0.0)</td>\n",
       "    </tr>\n",
       "    <tr>\n",
       "      <th>Mutual information</th>\n",
       "      <td>1.792</td>\n",
       "      <td>1.386</td>\n",
       "      <td>2.164</td>\n",
       "      <td>0.693</td>\n",
       "      <td>1.889</td>\n",
       "      <td>0.693</td>\n",
       "      <td>0.693</td>\n",
       "      <td>0.693</td>\n",
       "      <td>2.485</td>\n",
       "      <td>0.693</td>\n",
       "      <td>...</td>\n",
       "      <td>1.386</td>\n",
       "      <td>2.197</td>\n",
       "      <td>2.197</td>\n",
       "      <td>0</td>\n",
       "      <td>1.04</td>\n",
       "      <td>1.099</td>\n",
       "      <td>1.609</td>\n",
       "      <td>1.581</td>\n",
       "      <td>1.792</td>\n",
       "      <td>1.946</td>\n",
       "    </tr>\n",
       "    <tr>\n",
       "      <th>Jensen-Shannon divergence</th>\n",
       "      <td>0</td>\n",
       "      <td>0</td>\n",
       "      <td>0</td>\n",
       "      <td>0</td>\n",
       "      <td>0</td>\n",
       "      <td>0</td>\n",
       "      <td>0</td>\n",
       "      <td>0</td>\n",
       "      <td>0</td>\n",
       "      <td>0</td>\n",
       "      <td>...</td>\n",
       "      <td>0</td>\n",
       "      <td>0</td>\n",
       "      <td>0</td>\n",
       "      <td>0</td>\n",
       "      <td>0</td>\n",
       "      <td>0</td>\n",
       "      <td>0</td>\n",
       "      <td>0</td>\n",
       "      <td>0</td>\n",
       "      <td>0</td>\n",
       "    </tr>\n",
       "  </tbody>\n",
       "</table>\n",
       "<p>3 rows × 22 columns</p>\n",
       "</div>"
      ],
      "text/plain": [
       "                              cap-shape cap-surface   cap-color     bruises  \\\n",
       "Kullback-Leibler divergence  (0.0, 0.0)  (0.0, 0.0)  (0.0, 0.0)  (0.0, 0.0)   \n",
       "Mutual information                1.792       1.386       2.164       0.693   \n",
       "Jensen-Shannon divergence             0           0           0           0   \n",
       "\n",
       "                                   odor gill-attachment gill-spacing  \\\n",
       "Kullback-Leibler divergence  (0.0, 0.0)      (0.0, 0.0)   (0.0, 0.0)   \n",
       "Mutual information                1.889           0.693        0.693   \n",
       "Jensen-Shannon divergence             0               0            0   \n",
       "\n",
       "                              gill-size  gill-color stalk-shape     ...      \\\n",
       "Kullback-Leibler divergence  (0.0, 0.0)  (0.0, 0.0)  (0.0, 0.0)     ...       \n",
       "Mutual information                0.693       2.485       0.693     ...       \n",
       "Jensen-Shannon divergence             0           0           0     ...       \n",
       "\n",
       "                            stalk-surface-below-ring stalk-color-above-ring  \\\n",
       "Kullback-Leibler divergence               (0.0, 0.0)             (0.0, 0.0)   \n",
       "Mutual information                             1.386                  2.197   \n",
       "Jensen-Shannon divergence                          0                      0   \n",
       "\n",
       "                            stalk-color-below-ring   veil-type  veil-color  \\\n",
       "Kullback-Leibler divergence             (0.0, 0.0)  (0.0, 0.0)  (0.0, 0.0)   \n",
       "Mutual information                           2.197           0        1.04   \n",
       "Jensen-Shannon divergence                        0           0           0   \n",
       "\n",
       "                            ring-number   ring-type spore-print-color  \\\n",
       "Kullback-Leibler divergence  (0.0, 0.0)  (0.0, 0.0)        (0.0, 0.0)   \n",
       "Mutual information                1.099       1.609             1.581   \n",
       "Jensen-Shannon divergence             0           0                 0   \n",
       "\n",
       "                             population     habitat  \n",
       "Kullback-Leibler divergence  (0.0, 0.0)  (0.0, 0.0)  \n",
       "Mutual information                1.792       1.946  \n",
       "Jensen-Shannon divergence             0           0  \n",
       "\n",
       "[3 rows x 22 columns]"
      ]
     },
     "metadata": {},
     "output_type": "display_data"
    }
   ],
   "source": [
    "auto_comparator.show_comparison_matrix()\n",
    "comparator.show_comparison_matrix()"
   ]
  },
  {
   "cell_type": "markdown",
   "metadata": {},
   "source": [
    "### Binary classification scores\n",
    "\n",
    "- Discrimination between ds1 train set and ds1 test set"
   ]
  },
  {
   "cell_type": "code",
   "execution_count": 165,
   "metadata": {},
   "outputs": [
    {
     "name": "stdout",
     "output_type": "stream",
     "text": [
      "LogisticRegression(C=1.0, class_weight=None, dual=False, fit_intercept=True,\n",
      "          intercept_scaling=1, max_iter=100, multi_class='ovr', n_jobs=1,\n",
      "          penalty='l2', random_state=None, solver='liblinear', tol=0.0001,\n",
      "          verbose=0, warm_start=False)\n",
      "\n",
      "\n",
      "             precision    recall  f1-score   support\n",
      "\n",
      "  Dataset 1       1.00      0.80      0.89      1621\n",
      "  Dataset 2       0.01      0.67      0.01         3\n",
      "\n",
      "avg / total       1.00      0.80      0.89      1624\n",
      "\n",
      "\n",
      "\n",
      "RandomForestClassifier(bootstrap=True, class_weight=None, criterion='gini',\n",
      "            max_depth=None, max_features='auto', max_leaf_nodes=None,\n",
      "            min_impurity_decrease=0.0, min_impurity_split=None,\n",
      "            min_samples_leaf=1, min_samples_split=2,\n",
      "            min_weight_fraction_leaf=0.0, n_estimators=200, n_jobs=1,\n",
      "            oob_score=False, random_state=None, verbose=0,\n",
      "            warm_start=False)\n",
      "\n",
      "\n",
      "             precision    recall  f1-score   support\n",
      "\n",
      "  Dataset 1       0.95      0.90      0.92      1373\n",
      "  Dataset 2       0.58      0.75      0.65       251\n",
      "\n",
      "avg / total       0.89      0.88      0.88      1624\n",
      "\n",
      "\n",
      "\n",
      "MLPClassifier(activation='relu', alpha=0.0001, batch_size='auto', beta_1=0.9,\n",
      "       beta_2=0.999, early_stopping=False, epsilon=1e-08,\n",
      "       hidden_layer_sizes=(100, 100), learning_rate='constant',\n",
      "       learning_rate_init=0.001, max_iter=200, momentum=0.9,\n",
      "       nesterovs_momentum=True, power_t=0.5, random_state=None,\n",
      "       shuffle=True, solver='adam', tol=0.0001, validation_fraction=0.1,\n",
      "       verbose=False, warm_start=False)\n",
      "\n",
      "\n",
      "             precision    recall  f1-score   support\n",
      "\n",
      "  Dataset 1       1.00      0.89      0.94      1456\n",
      "  Dataset 2       0.52      0.99      0.68       168\n",
      "\n",
      "avg / total       0.95      0.90      0.92      1624\n",
      "\n",
      "\n",
      "\n"
     ]
    }
   ],
   "source": [
    "auto_comparator.show_classifier_score()\n",
    "\n",
    "from sklearn.ensemble import RandomForestClassifier\n",
    "auto_comparator.show_classifier_score(clf=RandomForestClassifier(n_estimators=200))\n",
    "\n",
    "from sklearn.neural_network import MLPClassifier\n",
    "auto_comparator.show_classifier_score(clf=MLPClassifier(hidden_layer_sizes=(100, 100)))"
   ]
  },
  {
   "cell_type": "markdown",
   "metadata": {},
   "source": [
    "- Discrimination between ds1 and ds2"
   ]
  },
  {
   "cell_type": "code",
   "execution_count": 152,
   "metadata": {},
   "outputs": [
    {
     "name": "stdout",
     "output_type": "stream",
     "text": [
      "LogisticRegression(C=1.0, class_weight=None, dual=False, fit_intercept=True,\n",
      "          intercept_scaling=1, max_iter=100, multi_class='ovr', n_jobs=1,\n",
      "          penalty='l2', random_state=None, solver='liblinear', tol=0.0001,\n",
      "          verbose=0, warm_start=False)\n",
      "\n",
      "\n",
      "             precision    recall  f1-score   support\n",
      "\n",
      "  Dataset 1       0.46      0.47      0.46      1572\n",
      "  Dataset 2       0.49      0.47      0.48      1676\n",
      "\n",
      "avg / total       0.47      0.47      0.47      3248\n",
      "\n",
      "\n",
      "\n",
      "RandomForestClassifier(bootstrap=True, class_weight=None, criterion='gini',\n",
      "            max_depth=None, max_features='auto', max_leaf_nodes=None,\n",
      "            min_impurity_decrease=0.0, min_impurity_split=None,\n",
      "            min_samples_leaf=1, min_samples_split=2,\n",
      "            min_weight_fraction_leaf=0.0, n_estimators=200, n_jobs=1,\n",
      "            oob_score=False, random_state=None, verbose=0,\n",
      "            warm_start=False)\n",
      "\n",
      "\n",
      "             precision    recall  f1-score   support\n",
      "\n",
      "  Dataset 1       0.11      0.11      0.11      1647\n",
      "  Dataset 2       0.10      0.10      0.10      1601\n",
      "\n",
      "avg / total       0.10      0.10      0.10      3248\n",
      "\n",
      "\n",
      "\n",
      "MLPClassifier(activation='relu', alpha=0.0001, batch_size='auto', beta_1=0.9,\n",
      "       beta_2=0.999, early_stopping=False, epsilon=1e-08,\n",
      "       hidden_layer_sizes=(100, 100), learning_rate='constant',\n",
      "       learning_rate_init=0.001, max_iter=200, momentum=0.9,\n",
      "       nesterovs_momentum=True, power_t=0.5, random_state=None,\n",
      "       shuffle=True, solver='adam', tol=0.0001, validation_fraction=0.1,\n",
      "       verbose=False, warm_start=False)\n",
      "\n",
      "\n",
      "             precision    recall  f1-score   support\n",
      "\n",
      "  Dataset 1       0.15      0.41      0.22       584\n",
      "  Dataset 2       0.79      0.48      0.60      2664\n",
      "\n",
      "avg / total       0.67      0.47      0.53      3248\n",
      "\n",
      "\n",
      "\n"
     ]
    }
   ],
   "source": [
    "comparator.show_classifier_score()\n",
    "\n",
    "from sklearn.ensemble import RandomForestClassifier\n",
    "comparator.show_classifier_score(clf=RandomForestClassifier(n_estimators=200))\n",
    "\n",
    "from sklearn.neural_network import MLPClassifier\n",
    "comparator.show_classifier_score(clf=MLPClassifier(hidden_layer_sizes=(100, 100)))"
   ]
  },
  {
   "cell_type": "markdown",
   "metadata": {},
   "source": [
    "### Privacy/Resemblance metric\n",
    "- ** MDA: ** Minimum Distance Accumulation\n",
    "- Privacy: Area above curve on the left of the threshold\n",
    "- Resemblance: Area under curve on the right of the threshold"
   ]
  },
  {
   "cell_type": "code",
   "execution_count": 176,
   "metadata": {},
   "outputs": [
    {
     "name": "stdout",
     "output_type": "stream",
     "text": [
      "Nearest neighbors metric\n"
     ]
    },
    {
     "data": {
      "image/png": "[encoded data removed]",
      "text/plain": [
       "<Figure size 432x288 with 1 Axes>"
      ]
     },
     "metadata": {},
     "output_type": "display_data"
    },
    {
     "data": {
      "text/markdown": [
       "** Privacy: **0.43107353169890283"
      ],
      "text/plain": [
       "<IPython.core.display.Markdown object>"
      ]
     },
     "metadata": {},
     "output_type": "display_data"
    },
    {
     "data": {
      "text/markdown": [
       "** Resemblance: **0.9977495946913999"
      ],
      "text/plain": [
       "<IPython.core.display.Markdown object>"
      ]
     },
     "metadata": {},
     "output_type": "display_data"
    }
   ],
   "source": [
    "comparator.compute_mda(norm='manhattan', precision=0.1, threshold=0.5)\n",
    "comparator.show_mda()"
   ]
  },
  {
   "cell_type": "code",
   "execution_count": 177,
   "metadata": {},
   "outputs": [
    {
     "data": {
      "image/png": "[encoded data removed]",
      "text/plain": [
       "<Figure size 432x288 with 1 Axes>"
      ]
     },
     "metadata": {},
     "output_type": "display_data"
    }
   ],
   "source": [
    "comparator.show_mda_threshold()"
   ]
  },
  {
   "cell_type": "markdown",
   "metadata": {},
   "source": [
    "** MMD: ** Maximum Mean Discrepancy"
   ]
  },
  {
   "cell_type": "markdown",
   "metadata": {},
   "source": [
    "### PCA plots"
   ]
  },
  {
   "cell_type": "code",
   "execution_count": 171,
   "metadata": {},
   "outputs": [
    {
     "name": "stdout",
     "output_type": "stream",
     "text": [
      "Explained variance ratio of the 6 components: \n",
      " [0.64510934 0.18974321 0.11673883 0.02816559 0.01738355 0.00285947]\n",
      "Explained variance ratio of the 6 components: \n",
      " [0.64760108 0.18945149 0.11408573 0.02833987 0.01773175 0.00279008]\n"
     ]
    },
    {
     "data": {
      "image/png": "[encoded data removed]",
      "text/plain": [
       "<Figure size 432x288 with 1 Axes>"
      ]
     },
     "metadata": {},
     "output_type": "display_data"
    }
   ],
   "source": [
    "comparator.show_pca(processed=True)"
   ]
  },
  {
   "cell_type": "markdown",
   "metadata": {},
   "source": [
    "### LDA plots\n",
    "\n",
    "Warning: Need a categorical target."
   ]
  },
  {
   "cell_type": "code",
   "execution_count": 174,
   "metadata": {},
   "outputs": [],
   "source": [
    "#comparator.show_lda('Species', processed=True)"
   ]
  },
  {
   "cell_type": "markdown",
   "metadata": {},
   "source": [
    "### Marginals\n",
    "\n",
    "Plots a metric on each variable on dataset 1 and dataset 2.\n",
    "\n",
    "The metric can be mean, standard deviation or correlation with a target variable."
   ]
  },
  {
   "cell_type": "code",
   "execution_count": 175,
   "metadata": {
    "scrolled": false
   },
   "outputs": [
    {
     "data": {
      "image/png": "[encoded data removed]",
      "text/plain": [
       "<Figure size 432x288 with 1 Axes>"
      ]
     },
     "metadata": {},
     "output_type": "display_data"
    },
    {
     "data": {
      "image/png": "[encoded data removed]",
      "text/plain": [
       "<Figure size 432x288 with 1 Axes>"
      ]
     },
     "metadata": {},
     "output_type": "display_data"
    },
    {
     "data": {
      "image/png": "[encoded data removed]",
      "text/plain": [
       "<Figure size 432x288 with 1 Axes>"
      ]
     },
     "metadata": {},
     "output_type": "display_data"
    }
   ],
   "source": [
    "comparator.compare_marginals(metric='mean', processed=True)\n",
    "comparator.compare_marginals(metric='std', processed=True)\n",
    "comparator.compare_marginals(metric='corr', target='Species', processed=True)"
   ]
  },
  {
   "cell_type": "code",
   "execution_count": null,
   "metadata": {},
   "outputs": [],
   "source": [
    "#comparator.show_mmd()\n",
    "# TODO"
   ]
  },
  {
   "cell_type": "code",
   "execution_count": null,
   "metadata": {},
   "outputs": [],
   "source": [
    "# Only if same number of samples !\n",
    "#comparator.dcov()"
   ]
  },
  {
   "cell_type": "code",
   "execution_count": null,
   "metadata": {},
   "outputs": [],
   "source": [
    "# Only if same number of samples !\n",
    "# Norm = 'l0',\n",
    "#        'manhattan' or 'l1', \n",
    "#        'euclidean' or 'l2',\n",
    "#        'minimum',\n",
    "#        'maximum',\n",
    "#comparator.datasets_distance(axis=0, norm='manhattan')"
   ]
  },
  {
   "cell_type": "code",
   "execution_count": null,
   "metadata": {},
   "outputs": [],
   "source": []
  }
 ],
 "metadata": {
  "kernelspec": {
   "display_name": "Python 3",
   "language": "python",
   "name": "python3"
  },
  "language_info": {
   "codemirror_mode": {
    "name": "ipython",
    "version": 3
   },
   "file_extension": ".py",
   "mimetype": "text/x-python",
   "name": "python",
   "nbconvert_exporter": "python",
   "pygments_lexer": "ipython3",
   "version": "3.7.0"
  }
 },
 "nbformat": 4,
 "nbformat_minor": 2
}

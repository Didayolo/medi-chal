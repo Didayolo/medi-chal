{
 "cells": [
  {
   "cell_type": "markdown",
   "metadata": {},
   "source": [
    "# Likelihood encoding benchmark"
   ]
  },
  {
   "cell_type": "code",
   "execution_count": 1,
   "metadata": {},
   "outputs": [],
   "source": [
    "%matplotlib inline"
   ]
  },
  {
   "cell_type": "code",
   "execution_count": 2,
   "metadata": {},
   "outputs": [],
   "source": [
    "import pandas as pd\n",
    "import numpy as np\n",
    "\n",
    "data = pd.read_csv('../data/adult/adult.data', header=None, names=[\n",
    "        \"Age\", \"Workclass\", \"fnlwgt\", \"Education\", \"Education-Num\", \"Marital Status\",\n",
    "        \"Occupation\", \"Relationship\", \"Race\", \"Sex\", \"Capital Gain\", \"Capital Loss\",\n",
    "        \"Hours per week\", \"Country\", \"Target\"])"
   ]
  },
  {
   "cell_type": "code",
   "execution_count": 3,
   "metadata": {},
   "outputs": [
    {
     "ename": "ImportError",
     "evalue": "No module named 'preprocessing'",
     "output_type": "error",
     "traceback": [
      "\u001b[0;31m---------------------------------------------------------------------------\u001b[0m",
      "\u001b[0;31mImportError\u001b[0m                               Traceback (most recent call last)",
      "\u001b[0;32m<ipython-input-3-ac66a91020f6>\u001b[0m in \u001b[0;36m<module>\u001b[0;34m()\u001b[0m\n\u001b[1;32m      1\u001b[0m \u001b[0;32mimport\u001b[0m \u001b[0msys\u001b[0m\u001b[0;34m\u001b[0m\u001b[0m\n\u001b[1;32m      2\u001b[0m \u001b[0msys\u001b[0m\u001b[0;34m.\u001b[0m\u001b[0mpath\u001b[0m\u001b[0;34m.\u001b[0m\u001b[0mappend\u001b[0m\u001b[0;34m(\u001b[0m\u001b[0;34m'../codes/preprocessing/'\u001b[0m\u001b[0;34m)\u001b[0m\u001b[0;34m\u001b[0m\u001b[0m\n\u001b[0;32m----> 3\u001b[0;31m \u001b[0;32mfrom\u001b[0m \u001b[0mpreprocessing\u001b[0m \u001b[0;32mimport\u001b[0m \u001b[0mpreprocess\u001b[0m\u001b[0;34m\u001b[0m\u001b[0m\n\u001b[0m",
      "\u001b[0;31mImportError\u001b[0m: No module named 'preprocessing'"
     ]
    }
   ],
   "source": [
    "import sys\n",
    "sys.path.append('../codes/preprocessing/')\n",
    "from preprocessing import preprocess"
   ]
  },
  {
   "cell_type": "code",
   "execution_count": null,
   "metadata": {},
   "outputs": [],
   "source": [
    "from sklearn.model_selection import train_test_split\n",
    "from sklearn.linear_model import LinearRegression\n",
    "from sklearn.metrics import accuracy_score\n",
    "from itertools import product\n",
    "import time\n",
    "\n",
    "X = data.drop(['Target'], axis=1)\n",
    "y = pd.DataFrame(data['Target'])\n",
    "\n",
    "normalization = ['standard']\n",
    "encoding = ['none', 'label', 'one-hot', 'likelihood']\n",
    "\n",
    "for nrm, ecd in product(normalization, encoding):\n",
    "    print(nrm.title(), '--', ecd.title())\n",
    "    X_prep = preprocess(X, nrm, ecd)\n",
    "    y_prep = preprocess(y, 'none', 'label')\n",
    "    print('X shape: ', X_prep.shape)\n",
    "    print('y shape: ', y_prep.shape)\n",
    "    t1 = time.time()\n",
    "    X_train, X_test, y_train, y_test = train_test_split(X_prep, y_prep, train_size=0.8, test_size=0.2)\n",
    "    t2 = time.time()\n",
    "    print('Model trained in ', t2-t1, 's.')\n",
    "    \n",
    "    reg = LinearRegression()\n",
    "    reg.fit(X_train, y_train)\n",
    "    print('Train acc: ', accuracy_score(np.round(reg.predict(X_train)), y_train))\n",
    "    print('Test acc: ', accuracy_score(np.round(reg.predict(X_test)), y_test))\n",
    "    print('\\n')"
   ]
  },
  {
   "cell_type": "code",
   "execution_count": null,
   "metadata": {},
   "outputs": [],
   "source": [
    "import matplotlib.pyplot as plt\n",
    "import sys\n",
    "sys.path.append('../codes/models/')\n",
    "import run_model\n",
    "import time\n",
    "\n",
    "# Normalization available = standard.\n",
    "normalization = ['standard']\n",
    "# Encoding available = label, one-hot, likelihood.\n",
    "#encoding = ['none', 'label', 'one-hot', 'likelihood']\n",
    "encoding = ['label', 'one-hot', 'likelihood']\n",
    "\n",
    "fig1, ax1 = plt.subplots()\n",
    "fig2, ax2 = plt.subplots(1, 2, figsize=(10, 6), sharey=True)\n",
    "\n",
    "for nrm, ecd in product(normalization, encoding):\n",
    "    print('Computing model with', nrm, 'normalization and', ecd, 'encoding...')\n",
    "    X_prep = preprocess(X, nrm, ecd)\n",
    "    y_prep = preprocess(y, 'none', 'label')\n",
    "    print('X shape: ', X_prep.shape)\n",
    "    print('y shape: ', y_prep.shape)\n",
    "    X_train, X_test, y_train, y_test = train_test_split(X_prep, y_prep, train_size=0.8, test_size=0.2)\n",
    "    \n",
    "    t1 = time.time()\n",
    "    losses, train_acc, test_acc = run_model.training(X_train, y_train, X_test, y_test)\n",
    "    t2 = time.time()\n",
    "    \n",
    "    print('Training finished in', t2-t1, 's. \\n')\n",
    "    \n",
    "    ax1.plot(losses, 'o-', label=nrm + ' ' +  ecd)\n",
    "    ax2[0].plot(train_acc, 'o-', label=nrm + ' ' +  ecd)\n",
    "    ax2[1].plot(test_acc, 'o-', label=nrm + ' ' +  ecd)\n",
    "    \n",
    "ax1.legend()\n",
    "ax2[0].legend()\n",
    "ax2[1].legend()\n",
    "plt.show()"
   ]
  },
  {
   "cell_type": "code",
   "execution_count": null,
   "metadata": {},
   "outputs": [],
   "source": []
  }
 ],
 "metadata": {
  "kernelspec": {
   "display_name": "Python 3",
   "language": "python",
   "name": "python3"
  },
  "language_info": {
   "codemirror_mode": {
    "name": "ipython",
    "version": 3
   },
   "file_extension": ".py",
   "mimetype": "text/x-python",
   "name": "python",
   "nbconvert_exporter": "python",
   "pygments_lexer": "ipython3",
   "version": "3.5.1"
  }
 },
 "nbformat": 4,
 "nbformat_minor": 2
}

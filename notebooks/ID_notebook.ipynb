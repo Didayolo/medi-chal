{
 "cells": [
  {
   "cell_type": "markdown",
   "metadata": {},
   "source": [
    "# Characterizing data distribution\n",
    "\n",
    "#### We want to represent the dataset in a human-friendly format to get a good impression of it. This is a kind of dataset \"identity card\".\n",
    "\n",
    "- Data format : autoML"
   ]
  },
  {
   "cell_type": "code",
   "execution_count": 58,
   "metadata": {},
   "outputs": [],
   "source": [
    "data_dir = '../data'\n",
    "\n",
    "datasets = {'iris': (data_dir + '/iris', 'iris'),\n",
    "            'iris_1': (data_dir + '/iris_1', 'iris'),\n",
    "            'iris_2': (data_dir + '/iris_2', 'iris'),\n",
    "            'mimic': (data_dir + '/mimic', 'mimic'),\n",
    "            'mushrooms': (data_dir + '/mushrooms', 'mushrooms'),\n",
    "            'chems': (data_dir + '/chems', 'chems'),\n",
    "            'credit': (data_dir + '/credit_data', 'credit'),\n",
    "            'squares': (data_dir + '/squares', 'squares'),\n",
    "            'squares_2': (data_dir + '/squares_2', 'squares'),\n",
    "            'adult': (data_dir + '/adult', 'adult')}\n",
    "\n",
    "input_dir, basename = datasets['chems']"
   ]
  },
  {
   "cell_type": "markdown",
   "metadata": {},
   "source": [
    "## Characterization\n",
    "\n",
    "### Visualization\n",
    "- Scatter plot matrix\n",
    "- Classes distribution\n",
    "- Hierarchical clustering with heatmap matrix\n",
    "- Hierarchical clustering with correlation matrix\n",
    "- Principal components analysis (PCA)\n",
    "- Linear discriminant analysis (LDA)\n",
    "- T-distributed stochastic neighbor embedding (t-SNE algorithm)\n",
    "\n",
    "### Meta features\n",
    "\n",
    "- **Simple features, Simple Measurements or General Data Characteristic** are directly and easily accessible properties of the dataset wich need almost no computations such as number of classes or number of attributes.\n",
    "    \n",
    "    - Number of records: $n$\n",
    "    - Number of attributes: $m$\n",
    "    -  Number of classes: $q$\n",
    "    -  Ratio of symbolic attributes: $\\frac{m_{symb}}{m}$\n",
    "    -  DatasetRatio $=\\frac{NumberOfFeatures}{NumberOfInstances}$  \n",
    "    -  Default error rate: $1 - Acc_{def}$ where $Acc_{def}$ is the probability of the largest class or default accuracy.\n",
    "    -  Standard deviation of the class distribution: $\\sigma_{class}$\n",
    "    -  Relative probability of defective records: $\\frac{n_{defTuple}}{n}$ where $n_{defTuple}$ is the number of records with missing values.\n",
    "    -  Relative probability of missing values: $\\frac{h_{missVal}}{n \\times m}$ where $h_{missVal}$ is the number of missing values.\n",
    "\n",
    "<br>   \n",
    "- **Statistical features** use statistical analysis methods and tests (Engels and Theusinger, 1998; Sohn 1999).\n",
    "    \n",
    "    - Kurtosis: Fourth central moment divided by the square of the variance $\\frac{E[(x_i-E[x_i])^4]}{[E[(x_i-E[x_i])^4]]^2}$ where $x_i$ is the ith feature. \n",
    "    - PCAKurtosis: Transform the dataset X by PCA, then compute the kurtosis\n",
    "    - SkewnessMin: min over skewness of all features. Skewness measures the symmetry of a distribution. A skewness value > 0 means that there is more weight in the left tail of the distribution\n",
    "\n",
    "<br> \n",
    "- **Discriminant Measurements** compute a discriminant analysis leading to the following measurements:\n",
    "    \n",
    "    -  Relative importance if the largest eigenvalue as an indication for the importance of the $1{\\text{st}}$ discriminant function\n",
    "    -  Canonical correlation, which is an indicator for the degree of correlation between the most significant discriminant function and class distribution. There is a strong correlation between the classes and the $1{\\text{st}}$ discriminant function if this measurement is close to unity.\n",
    "    -  Number of discriminant functions\n",
    "    -  Wilks Lambda describes the significance of the r discriminant functions and is defined as follows:\n",
    "        \n",
    "        $$ \\Lambda = \\Pi^{DiscFct}_{j=1} \\frac{1}{1 + \\lambda_j} $$\n",
    "        \n",
    "        If Wlambda is near zero, in principle this indicates there is a good possibility for making good discriminations.\n",
    "\n",
    "<br> \n",
    "-  **Information-theoric features** typically use entropy measures of the attributes and the class label (Segrera et al., 2008).\n",
    "    \n",
    "    -  ClassEntropy $= mean(-\\sum_{i=1}^{n}p(Class_i)ln(p(Class_i)))$ where $p(Class_i)$ is the probability of having an instance of Class\\_i\n",
    "    -  Join entropy\n",
    "    -  Average attribute entropy\n",
    "    -  Average mutual information\n",
    "    -  Relevance-measure\n",
    "    -  Signal Noise Ratio\n",
    "\n",
    "<br> \n",
    "-  **Model-based features** create a model of the data, e.g. a decision tree, and use properties of it, e.g. the width and height of the tree, as features (Peng et al., 2002 used 17 properties of a decision tree).\n",
    "\n",
    "<br> \n",
    "-  **Landmarking features** apply fast computable classifiers, e.g. Naive Bayes or 1-Nearest Neighbor, on the dataset (Pfahringer et al., 2000; Bensusan and Giraud-Carrier, 2000) and use the resulting performance as meta-features. This can be done with several metrics.\n",
    "    \n",
    "    <!-- -  Landmark[Some\\_Model]: accuracy of [Some\\_Model] applied on dataset. -->\n",
    "    <!-- -  LandmarkDecisionNodeLearner \\& LandmarkRandomNodeLearner: Both are decision tree with max\\_depth=1. `DecisionNode' considers all features when looking for best split, and `RandomNode' considers only 1 feature, where comes the term `random'. -->\n",
    "\n",
    "<br> \n",
    "-  **Time-based features** are specialized for time predictions. They contain time measures of several computations regarding the dataset, e.g. the time for computing the other meta-features. Meta-features of this group have the benefit that they are able to take the performance of the computer into account. In (Reif et al., 2011) they present nine different time-measures.\n",
    "    \n",
    "    -  Training time ?\n",
    "    -  Testing time ?\n",
    "\n",
    "<!-- \n",
    "A voir : Algorithm Characteristics\n",
    "\n",
    "ClassProbabilityMin $= min_{i=1 \\dots n}(p(Class_i))= min_{i=1 \\dots n}(\\frac{NumberOfInstances\\_Class_i}{TotleNumberOfInstances}) $\n",
    "\n",
    "NumSymbols: For each categorial feature, compute how many unique values there is ???\n",
    "\n",
    "Interpretability of the model ? -->"
   ]
  },
  {
   "cell_type": "code",
   "execution_count": 59,
   "metadata": {},
   "outputs": [
    {
     "name": "stdout",
     "output_type": "stream",
     "text": [
      "The autoreload extension is already loaded. To reload it, use:\n",
      "  %reload_ext autoreload\n"
     ]
    }
   ],
   "source": [
    "# Imports\n",
    "\n",
    "# AutoML\n",
    "problem_dir = '../data_manager/'  \n",
    "from sys import path\n",
    "path.append(problem_dir)\n",
    "%matplotlib inline\n",
    "%load_ext autoreload\n",
    "%autoreload 2\n",
    "\n",
    "from auto_ml import AutoML"
   ]
  },
  {
   "cell_type": "markdown",
   "metadata": {},
   "source": [
    "### Read data"
   ]
  },
  {
   "cell_type": "code",
   "execution_count": 61,
   "metadata": {},
   "outputs": [
    {
     "name": "stdout",
     "output_type": "stream",
     "text": [
      "------- Recap of files ------\n",
      "X: Yes\n",
      "X train: No\n",
      "X test: No \n",
      "\n",
      "y: No\n",
      "y train: No\n",
      "y test: No \n",
      "\n"
     ]
    }
   ],
   "source": [
    "#D = AutoML(input_dir, basename)\n",
    "#D = AutoML.from_csv(input_dir, basename, 'adult.data', seps=[',\\s', ' '], headers=[None, None])\n",
    "#D = AutoML.from_csv(input_dir, basename, 'mushrooms.csv', target=-1)\n",
    "D = AutoML.from_csv(input_dir, basename, 'chemsdata.csv')"
   ]
  },
  {
   "cell_type": "code",
   "execution_count": 62,
   "metadata": {},
   "outputs": [
    {
     "name": "stdout",
     "output_type": "stream",
     "text": [
      "Name: Chems\n",
      "Feat num: 43\n",
      "Has categorical: 0\n",
      "Time budget: 600\n",
      "Is sparse: 0\n",
      "Usage: No info file\n",
      "Format: Dense\n",
      "Has missing: 0\n",
      "Feat type: Mixed\n"
     ]
    }
   ],
   "source": [
    "D.show_info()"
   ]
  },
  {
   "cell_type": "code",
   "execution_count": 63,
   "metadata": {},
   "outputs": [],
   "source": [
    "data, target = D.get_data_as_df()"
   ]
  },
  {
   "cell_type": "code",
   "execution_count": 64,
   "metadata": {},
   "outputs": [
    {
     "data": {
      "text/plain": [
       "dict_keys(['X'])"
      ]
     },
     "execution_count": 64,
     "metadata": {},
     "output_type": "execute_result"
    }
   ],
   "source": [
    "data.keys()"
   ]
  },
  {
   "cell_type": "code",
   "execution_count": 65,
   "metadata": {},
   "outputs": [
    {
     "data": {
      "text/plain": [
       "dict_keys([])"
      ]
     },
     "execution_count": 65,
     "metadata": {},
     "output_type": "execute_result"
    }
   ],
   "source": [
    "target.keys()"
   ]
  },
  {
   "cell_type": "markdown",
   "metadata": {},
   "source": [
    "### Preprocessing\n",
    "\n",
    "For numerical variables:\n",
    "    - Replace missing values, NaN, with the median\n",
    "    - Replace +Inf by the maximum and -Inf by the minimum\n",
    "    - Normalization (standard or min-max)\n",
    "\n",
    "For categorical variables:\n",
    "    - Replace missing values by 'missing'\n",
    "    - Encoding (label, one-hot or likelihood)\n",
    "\n"
   ]
  },
  {
   "cell_type": "code",
   "execution_count": 66,
   "metadata": {},
   "outputs": [],
   "source": [
    "from preprocessing import preprocess\n",
    "\n",
    "X = preprocess(data['X'], normalization='standard', categorical='label')"
   ]
  },
  {
   "cell_type": "markdown",
   "metadata": {},
   "source": [
    "# Visualization"
   ]
  },
  {
   "cell_type": "code",
   "execution_count": 48,
   "metadata": {
    "scrolled": false
   },
   "outputs": [],
   "source": [
    "D.compute_descriptors()"
   ]
  },
  {
   "cell_type": "code",
   "execution_count": 50,
   "metadata": {},
   "outputs": [
    {
     "data": {
      "text/plain": [
       "{'class_deviation': 0.47856247301278126,\n",
       " 'missing_proba': 0.0,\n",
       " 'ratio': 0.0380952380952381,\n",
       " 'skewness_max': 0.3285767696058563,\n",
       " 'skewness_mean': -0.2994641239395824,\n",
       " 'skewness_min': -1.4075720510368281,\n",
       " 'symb_ratio': 0.0}"
      ]
     },
     "execution_count": 50,
     "metadata": {},
     "output_type": "execute_result"
    }
   ],
   "source": [
    "D.descriptors"
   ]
  },
  {
   "cell_type": "code",
   "execution_count": 9,
   "metadata": {},
   "outputs": [],
   "source": [
    "D.train_test_split(train_size=0.8, test_size=0.2)"
   ]
  },
  {
   "cell_type": "code",
   "execution_count": 67,
   "metadata": {
    "scrolled": false
   },
   "outputs": [
    {
     "data": {
      "image/png": "[encoded data removed]",
      "text/plain": [
       "<Figure size 720x720 with 2 Axes>"
      ]
     },
     "metadata": {},
     "output_type": "display_data"
    }
   ],
   "source": [
    "from utilities import show_correlation\n",
    "\n",
    "show_correlation(X)"
   ]
  },
  {
   "cell_type": "code",
   "execution_count": null,
   "metadata": {},
   "outputs": [],
   "source": []
  }
 ],
 "metadata": {
  "kernelspec": {
   "display_name": "Python 3",
   "language": "python",
   "name": "python3"
  },
  "language_info": {
   "codemirror_mode": {
    "name": "ipython",
    "version": 3
   },
   "file_extension": ".py",
   "mimetype": "text/x-python",
   "name": "python",
   "nbconvert_exporter": "python",
   "pygments_lexer": "ipython3",
   "version": "3.5.1"
  }
 },
 "nbformat": 4,
 "nbformat_minor": 2
}

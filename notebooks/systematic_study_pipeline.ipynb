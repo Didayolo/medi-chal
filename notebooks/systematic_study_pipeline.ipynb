{
 "cells": [
  {
   "cell_type": "markdown",
   "metadata": {},
   "source": [
    "### Systematic study"
   ]
  },
  {
   "cell_type": "code",
   "execution_count": 6,
   "metadata": {},
   "outputs": [],
   "source": [
    "# AutoML\n",
    "import sys\n",
    "main_path = '../'\n",
    "sys.path.append(main_path + 'code/auto_ml')\n",
    "sys.path.append(main_path + 'code/processing')\n",
    "sys.path.append(main_path + 'code/functions')\n",
    "sys.path.append(main_path + 'code/models')\n",
    "sys.path.append(main_path + 'data')\n",
    "\n",
    "%matplotlib inline\n",
    "%reload_ext autoreload\n",
    "%autoreload 2\n",
    "\n",
    "from auto_ml import AutoML\n",
    "from comparator import Comparator\n",
    "\n",
    "from sklearn.ensemble import RandomForestRegressor\n",
    "from sklearn.ensemble import RandomForestClassifier\n",
    "from sklearn.neural_network import MLPClassifier\n",
    "from sklearn.model_selection import train_test_split\n",
    "from sklearn.metrics import mean_squared_error\n",
    "from sklearn.metrics import accuracy_score\n",
    "from sklearn.preprocessing import LabelEncoder\n",
    "\n",
    "import pandas as pd\n",
    "import matplotlib.pyplot as plt"
   ]
  },
  {
   "cell_type": "code",
   "execution_count": 7,
   "metadata": {},
   "outputs": [],
   "source": [
    "data_path = '../data/systematic_study_data/'\n",
    "\n",
    "# To run all the study\n",
    "#datasets = ['iris', 'mushrooms', 'boston', 'adult', 'mimic']\n",
    "#labels = ['species', 'class', 'medv', 'income', 'DIED']\n",
    "#generators = ['mg', 'kd', 'rf', 'wgan']\n",
    "#scorings = ['acc', 'acc', 'r2', 'acc', 'acc']\n",
    "\n",
    "# To run a given configuration\n",
    "datasets = ['iris']\n",
    "labels = ['species']\n",
    "generators = ['rf']\n",
    "scorings = ['acc']\n",
    "\n",
    "# !!! WGAN: ONLY 5 FEATURES"
   ]
  },
  {
   "cell_type": "code",
   "execution_count": 8,
   "metadata": {},
   "outputs": [],
   "source": [
    "def label_encode(y, dropna=False):\n",
    "    \n",
    "    le = LabelEncoder()\n",
    "    if dropna:\n",
    "        y = y.dropna()\n",
    "        \n",
    "    return le.fit_transform(y)\n",
    "\n",
    "\n",
    "def task_score(X_train, y_train, X_test, y_test, scoring='mse'):\n",
    "        \n",
    "    if scoring == 'mse':\n",
    "        model = RandomForestRegressor(n_estimators=50)\n",
    "        model.fit(X_train, y_train)\n",
    "        return mean_squared_error(y_test, model.predict(X_test)) # MSE\n",
    "    \n",
    "    elif scoring == 'r2':\n",
    "        model = RandomForestRegressor(n_estimators=50)\n",
    "        model.fit(X_train, y_train)\n",
    "        return model.score(X_test, y_test) # r2\n",
    "    \n",
    "    elif scoring == 'acc':\n",
    "        model = RandomForestClassifier(n_estimators=50)\n",
    "        model.fit(X_train, y_train)\n",
    "        return accuracy_score(y_test, model.predict(X_test))\n",
    "    \n",
    "    else:\n",
    "        raise OSError('{} scoring is not taken in charge'.format(scoring))\n",
    "        \n",
    "\n",
    "def show_task_score(train_X, train_y, test_X, test_y, gen_X, gen_y, scoring):\n",
    "    \n",
    "    scores = []\n",
    "\n",
    "    # train / test\n",
    "    scores.append(task_score(train_X, train_y, test_X, test_y, scoring=scoring))\n",
    "\n",
    "    # train / gen\n",
    "    scores.append(task_score(train_X, train_y, gen_X, gen_y, scoring=scoring))\n",
    "\n",
    "    # gen / gen\n",
    "    gen_X_train, gen_X_test, gen_y_train, gen_y_test = train_test_split(gen_X, gen_y, test_size=0.3)\n",
    "    scores.append(task_score(gen_X_train, gen_y_train, gen_X_test, gen_y_test, scoring=scoring))\n",
    "\n",
    "    x = [1, 2, 3]\n",
    "\n",
    "    legends = {1:('Trained on train set / Tested on test set','b'), \n",
    "          2:('Trained on train set / Tested on generated dataset','g'), \n",
    "          3:('Trained and tested on generated dataset (with a split)','orange')}\n",
    "\n",
    "    ax1 = plt.subplot(111)\n",
    "\n",
    "    for j in range(len(x)):\n",
    "        ax1.bar(x[j], scores[j], width=0.8, bottom=0.0, align='center', color=legends[x[j]][1], alpha=0.6, label=legends[x[j]][0])\n",
    "\n",
    "    ax1.set_xticks(x)\n",
    "    ax1.set_xticklabels([i for i in x])\n",
    "\n",
    "    ax1.legend(loc='upper center', bbox_to_anchor=(0.5, 1.3),\n",
    "              ncol=1, fancybox=True, shadow=True)\n",
    "\n",
    "    plt.xlabel('Training and test set')\n",
    "    plt.ylabel(scoring + 'score')\n",
    "    if scoring == 'acc':\n",
    "        plt.ylim(0, 1) # same scale for every plots\n",
    "\n",
    "    #plt.savefig(fig_path+dataset+'_'+generator+'_score.png') # out of figure bounds\n",
    "    plt.show()"
   ]
  },
  {
   "cell_type": "code",
   "execution_count": 9,
   "metadata": {},
   "outputs": [],
   "source": [
    "# Convert to AutoML format if necessary\n",
    "\n",
    "#versions = generators\n",
    "#versions = ['train_sdv', 'test_sdv']\n",
    "#for v in versions:\n",
    "#    for d in datasets:\n",
    "#        name = d + '_' + v\n",
    "#        input_dir, basename = data_path + d, name # TMP\n",
    "#        D = AutoML.from_csv(input_dir, basename, name+'.csv')"
   ]
  },
  {
   "cell_type": "markdown",
   "metadata": {},
   "source": [
    "### Run the experiment"
   ]
  },
  {
   "cell_type": "code",
   "execution_count": 10,
   "metadata": {
    "scrolled": false
   },
   "outputs": [
    {
     "name": "stdout",
     "output_type": "stream",
     "text": [
      "iris\n",
      "rf\n",
      "\n",
      "2 datasets detected: ready for comparison.\n",
      "Nearest neighbors metric\n"
     ]
    },
    {
     "data": {
      "image/png": "[encoded data removed]",
      "text/plain": [
       "<Figure size 432x288 with 1 Axes>"
      ]
     },
     "metadata": {},
     "output_type": "display_data"
    },
    {
     "data": {
      "text/markdown": [
       "** Privacy: **0.9198267790262172"
      ],
      "text/plain": [
       "<IPython.core.display.Markdown object>"
      ]
     },
     "metadata": {},
     "output_type": "display_data"
    },
    {
     "data": {
      "text/markdown": [
       "** Resemblance: **0.865812265917603"
      ],
      "text/plain": [
       "<IPython.core.display.Markdown object>"
      ]
     },
     "metadata": {},
     "output_type": "display_data"
    },
    {
     "data": {
      "image/png": "[encoded data removed]",
      "text/plain": [
       "<Figure size 432x288 with 1 Axes>"
      ]
     },
     "metadata": {},
     "output_type": "display_data"
    }
   ],
   "source": [
    "fig_path = '/home/adrien/Images/systematic_study/'\n",
    "\n",
    "# Loop on datasets\n",
    "for i, dataset in enumerate(datasets):\n",
    "    \n",
    "    # Loop on generative models\n",
    "    for generator in generators:\n",
    "\n",
    "        # Intro\n",
    "        print(dataset)\n",
    "        print(generator)\n",
    "        print()\n",
    "        \n",
    "        label = labels[i]\n",
    "        scoring = scorings[i]\n",
    "\n",
    "        # A) Datasets\n",
    "        # 1) Train original dataset\n",
    "        train = AutoML(data_path + dataset, dataset + '_train_sdv')\n",
    "        train_data = train.get_data()\n",
    "        #train_y = train_data[label]\n",
    "        # class, need decoded dataset\n",
    "        train_cl = pd.read_csv(data_path + dataset + '/' + dataset +'_train_sdv_normal.csv')\n",
    "        train_y = label_encode(train_cl[label])\n",
    "        \n",
    "        # 2) Test original dataset\n",
    "        test = AutoML(data_path + dataset, dataset + '_test_sdv')\n",
    "        test_data = test.get_data()\n",
    "        #test_y = test_data[label]\n",
    "        # class, need decoded dataset\n",
    "        test_cl = pd.read_csv(data_path + dataset + '/' + dataset +'_test_sdv_normal.csv')\n",
    "        test_y = label_encode(test_cl[label])\n",
    "        \n",
    "        # 3) Generated dataset\n",
    "        gen = AutoML(data_path + dataset, dataset +'_'+ generator)\n",
    "        gen_data = gen.get_data()\n",
    "        #gen_y = gen_data[label] # should not be needed\n",
    "        # class, need decoded dataset\n",
    "        gen_cl = pd.read_csv(data_path + dataset + '/' + dataset +'_'+ generator + '_normal.csv')\n",
    "        \n",
    "        # NaN values appeared during decoding \n",
    "        # We want to drop NaN in the decoded y and then report the new index to gen_X\n",
    "        # To be able to train and test a classifier on the generated data\n",
    "        y = gen_cl[label].dropna()\n",
    "        idx = y.index\n",
    "        gen_y = label_encode(y)\n",
    "        \n",
    "        # Drop label\n",
    "        train_X = train_data.drop([label], axis=1)\n",
    "        test_X = test_data.drop([label], axis=1)\n",
    "        gen_X = gen_data.drop([label], axis=1).loc[idx]\n",
    "        ##############################\n",
    "\n",
    "        # B) Metrics\n",
    "        # 1) Plots\n",
    "        comparator = Comparator(test, gen)\n",
    "        \n",
    "        size = 1 # PCA plot points size\n",
    "        if dataset in ['iris', 'boston']: # For small datasets ~ train_X.shape[0] < 1000\n",
    "            size = 5\n",
    "            \n",
    "        alpha2 = .8 # PCA plot orange points opacity\n",
    "        if dataset in ['adult', 'mimic']: # For big datasets  ~ train_X.shape[0] > 10000\n",
    "            alpha2 = 0.3\n",
    "        \n",
    "        #comparator.show_pca(save=fig_path+dataset+'_'+generator+'_pca.png', label1='Original dataset', label2='Generated dataset', size=size, alpha2=alpha2)\n",
    "        ##comparator.show_lda(label)\n",
    "        comparator.show_mda(save=fig_path+dataset+'_'+generator+'_mda.png', same_size=True)\n",
    "        comparator.show_mda_threshold(save=fig_path+dataset+'_'+generator+'_threshold.png', same_size=True)\n",
    "        #comparator.compare_marginals(metric='all', target=label, save=fig_path+dataset+'_'+generator+'_marginals.png')\n",
    "        \n",
    "        # 2) Discriminant score\n",
    "        #clf = MLPClassifier(hidden_layer_sizes=(100, 200))\n",
    "        #comparator.show_classifier_score(clf=clf, processed=False, same_size=True, label1='Original dataset', label2='Generated dataset')\n",
    "        \n",
    "        # 3) Tasks scores\n",
    "        \n",
    "        #show_task_score(train_X, train_y, test_X, test_y, gen_X, gen_y, scoring)"
   ]
  },
  {
   "cell_type": "code",
   "execution_count": null,
   "metadata": {},
   "outputs": [],
   "source": []
  }
 ],
 "metadata": {
  "kernelspec": {
   "display_name": "Python 3",
   "language": "python",
   "name": "python3"
  },
  "language_info": {
   "codemirror_mode": {
    "name": "ipython",
    "version": 3
   },
   "file_extension": ".py",
   "mimetype": "text/x-python",
   "name": "python",
   "nbconvert_exporter": "python",
   "pygments_lexer": "ipython3",
   "version": "3.7.0"
  }
 },
 "nbformat": 4,
 "nbformat_minor": 2
}

{
 "cells": [
  {
   "cell_type": "markdown",
   "metadata": {},
   "source": [
    "# Mixed data SAM generator\n",
    "Application on the Mushroom dataset."
   ]
  },
  {
   "cell_type": "code",
   "execution_count": 2,
   "metadata": {},
   "outputs": [],
   "source": [
    "%matplotlib inline\n",
    "%reload_ext autoreload\n",
    "%autoreload 2\n",
    "\n",
    "from sys import path\n",
    "\n",
    "generator_dir = '../generators/'\n",
    "utils_dir = '../data_manager/'\n",
    "path.append(generator_dir)\n",
    "path.append(utils_dir)"
   ]
  },
  {
   "cell_type": "code",
   "execution_count": 3,
   "metadata": {},
   "outputs": [
    {
     "name": "stdout",
     "output_type": "stream",
     "text": [
      "(8124, 23)\n"
     ]
    },
    {
     "data": {
      "text/html": [
       "<div>\n",
       "<style scoped>\n",
       "    .dataframe tbody tr th:only-of-type {\n",
       "        vertical-align: middle;\n",
       "    }\n",
       "\n",
       "    .dataframe tbody tr th {\n",
       "        vertical-align: top;\n",
       "    }\n",
       "\n",
       "    .dataframe thead th {\n",
       "        text-align: right;\n",
       "    }\n",
       "</style>\n",
       "<table border=\"1\" class=\"dataframe\">\n",
       "  <thead>\n",
       "    <tr style=\"text-align: right;\">\n",
       "      <th></th>\n",
       "      <th>0</th>\n",
       "      <th>1</th>\n",
       "      <th>2</th>\n",
       "      <th>3</th>\n",
       "      <th>4</th>\n",
       "      <th>5</th>\n",
       "      <th>6</th>\n",
       "      <th>7</th>\n",
       "      <th>8</th>\n",
       "      <th>9</th>\n",
       "      <th>...</th>\n",
       "      <th>13</th>\n",
       "      <th>14</th>\n",
       "      <th>15</th>\n",
       "      <th>16</th>\n",
       "      <th>17</th>\n",
       "      <th>18</th>\n",
       "      <th>19</th>\n",
       "      <th>20</th>\n",
       "      <th>21</th>\n",
       "      <th>22</th>\n",
       "    </tr>\n",
       "  </thead>\n",
       "  <tbody>\n",
       "    <tr>\n",
       "      <th>0</th>\n",
       "      <td>p</td>\n",
       "      <td>x</td>\n",
       "      <td>s</td>\n",
       "      <td>n</td>\n",
       "      <td>t</td>\n",
       "      <td>p</td>\n",
       "      <td>f</td>\n",
       "      <td>c</td>\n",
       "      <td>n</td>\n",
       "      <td>k</td>\n",
       "      <td>...</td>\n",
       "      <td>s</td>\n",
       "      <td>w</td>\n",
       "      <td>w</td>\n",
       "      <td>p</td>\n",
       "      <td>w</td>\n",
       "      <td>o</td>\n",
       "      <td>p</td>\n",
       "      <td>k</td>\n",
       "      <td>s</td>\n",
       "      <td>u</td>\n",
       "    </tr>\n",
       "    <tr>\n",
       "      <th>1</th>\n",
       "      <td>e</td>\n",
       "      <td>x</td>\n",
       "      <td>s</td>\n",
       "      <td>y</td>\n",
       "      <td>t</td>\n",
       "      <td>a</td>\n",
       "      <td>f</td>\n",
       "      <td>c</td>\n",
       "      <td>b</td>\n",
       "      <td>k</td>\n",
       "      <td>...</td>\n",
       "      <td>s</td>\n",
       "      <td>w</td>\n",
       "      <td>w</td>\n",
       "      <td>p</td>\n",
       "      <td>w</td>\n",
       "      <td>o</td>\n",
       "      <td>p</td>\n",
       "      <td>n</td>\n",
       "      <td>n</td>\n",
       "      <td>g</td>\n",
       "    </tr>\n",
       "    <tr>\n",
       "      <th>2</th>\n",
       "      <td>e</td>\n",
       "      <td>b</td>\n",
       "      <td>s</td>\n",
       "      <td>w</td>\n",
       "      <td>t</td>\n",
       "      <td>l</td>\n",
       "      <td>f</td>\n",
       "      <td>c</td>\n",
       "      <td>b</td>\n",
       "      <td>n</td>\n",
       "      <td>...</td>\n",
       "      <td>s</td>\n",
       "      <td>w</td>\n",
       "      <td>w</td>\n",
       "      <td>p</td>\n",
       "      <td>w</td>\n",
       "      <td>o</td>\n",
       "      <td>p</td>\n",
       "      <td>n</td>\n",
       "      <td>n</td>\n",
       "      <td>m</td>\n",
       "    </tr>\n",
       "    <tr>\n",
       "      <th>3</th>\n",
       "      <td>p</td>\n",
       "      <td>x</td>\n",
       "      <td>y</td>\n",
       "      <td>w</td>\n",
       "      <td>t</td>\n",
       "      <td>p</td>\n",
       "      <td>f</td>\n",
       "      <td>c</td>\n",
       "      <td>n</td>\n",
       "      <td>n</td>\n",
       "      <td>...</td>\n",
       "      <td>s</td>\n",
       "      <td>w</td>\n",
       "      <td>w</td>\n",
       "      <td>p</td>\n",
       "      <td>w</td>\n",
       "      <td>o</td>\n",
       "      <td>p</td>\n",
       "      <td>k</td>\n",
       "      <td>s</td>\n",
       "      <td>u</td>\n",
       "    </tr>\n",
       "    <tr>\n",
       "      <th>4</th>\n",
       "      <td>e</td>\n",
       "      <td>x</td>\n",
       "      <td>s</td>\n",
       "      <td>g</td>\n",
       "      <td>f</td>\n",
       "      <td>n</td>\n",
       "      <td>f</td>\n",
       "      <td>w</td>\n",
       "      <td>b</td>\n",
       "      <td>k</td>\n",
       "      <td>...</td>\n",
       "      <td>s</td>\n",
       "      <td>w</td>\n",
       "      <td>w</td>\n",
       "      <td>p</td>\n",
       "      <td>w</td>\n",
       "      <td>o</td>\n",
       "      <td>e</td>\n",
       "      <td>n</td>\n",
       "      <td>a</td>\n",
       "      <td>g</td>\n",
       "    </tr>\n",
       "  </tbody>\n",
       "</table>\n",
       "<p>5 rows × 23 columns</p>\n",
       "</div>"
      ],
      "text/plain": [
       "  0  1  2  3  4  5  6  7  8  9  ... 13 14 15 16 17 18 19 20 21 22\n",
       "0  p  x  s  n  t  p  f  c  n  k ...  s  w  w  p  w  o  p  k  s  u\n",
       "1  e  x  s  y  t  a  f  c  b  k ...  s  w  w  p  w  o  p  n  n  g\n",
       "2  e  b  s  w  t  l  f  c  b  n ...  s  w  w  p  w  o  p  n  n  m\n",
       "3  p  x  y  w  t  p  f  c  n  n ...  s  w  w  p  w  o  p  k  s  u\n",
       "4  e  x  s  g  f  n  f  w  b  k ...  s  w  w  p  w  o  e  n  a  g\n",
       "\n",
       "[5 rows x 23 columns]"
      ]
     },
     "execution_count": 3,
     "metadata": {},
     "output_type": "execute_result"
    }
   ],
   "source": [
    "import pandas as pd\n",
    "import numpy as np\n",
    "from sklearn.preprocessing import scale\n",
    "mush_df = pd.read_csv('../data/mushrooms/mushrooms.data', header=None, sep=\" \")\n",
    "#adult_df = pd.DataFrame(scale(adult_df), columns=['Feature {}'.format(i) for i in range(4)])\n",
    "print(mush_df.shape)\n",
    "\n",
    "mush_df.head()\n"
   ]
  },
  {
   "cell_type": "code",
   "execution_count": 4,
   "metadata": {},
   "outputs": [],
   "source": [
    "#adult_df.iloc[:,:5].hist()"
   ]
  },
  {
   "cell_type": "code",
   "execution_count": 11,
   "metadata": {},
   "outputs": [
    {
     "name": "stderr",
     "output_type": "stream",
     "text": [
      "../generators/csam.py:142: UserWarning: Implicit dimension choice for softmax has been deprecated. Change the call to include dim=X as an argument.\n",
      "  return self.softmax(self.layers(self.filter(x)))\n"
     ]
    },
    {
     "name": "stdout",
     "output_type": "stream",
     "text": [
      "22 Epoch: 0 -- Disc: 1.3968582153320312 -- Gen: 0.6736580807229747 -- L1: 50.60000228881836\n",
      "22 Epoch: 20 -- Disc: 1.3863766193389893 -- Gen: 0.6915334203968877 -- L1: 40.48001480102539\n",
      "22 Epoch: 40 -- Disc: 1.3862724304199219 -- Gen: 0.6942634582519531 -- L1: 30.360021591186523\n",
      "22 Epoch: 60 -- Disc: 1.386319637298584 -- Gen: 0.6936353600543478 -- L1: 20.240020751953125\n",
      "22 Epoch: 80 -- Disc: 1.3861944675445557 -- Gen: 0.693351123643958 -- L1: 10.120006561279297\n",
      "22 Epoch: 100 -- Disc: 1.38553786277771 -- Gen: 0.6929865298063859 -- L1: 0.004894264042377472\n",
      "22 Epoch: 120 -- Disc: 1.3772082328796387 -- Gen: 0.6926500486290973 -- L1: 0.5057212114334106\n",
      "22 Epoch: 140 -- Disc: 1.3327711820602417 -- Gen: 0.7411544633948285 -- L1: 0.12906603515148163\n",
      "22 Epoch: 160 -- Disc: 1.2795803546905518 -- Gen: 0.7700961569081182 -- L1: 0.2152017205953598\n",
      "22 Epoch: 180 -- Disc: 1.2780842781066895 -- Gen: 0.9147559456203295 -- L1: 0.5412546992301941\n",
      "22 Epoch: 200 -- Disc: 1.2453131675720215 -- Gen: 0.8811529408330503 -- L1: 0.6964213252067566\n",
      "22 Epoch: 220 -- Disc: 1.2716329097747803 -- Gen: 0.8951463284699813 -- L1: 0.8258500099182129\n",
      "22 Epoch: 240 -- Disc: 1.2152576446533203 -- Gen: 0.9705831278925356 -- L1: 0.6267191171646118\n",
      "22 Epoch: 260 -- Disc: 1.259166955947876 -- Gen: 0.8701144508693529 -- L1: 0.9305086135864258\n",
      "22 Epoch: 280 -- Disc: 1.2205967903137207 -- Gen: 0.9630889892578125 -- L1: 0.7347660064697266\n",
      "22 Epoch: 300 -- Disc: 1.3071682453155518 -- Gen: 0.8716858573581862 -- L1: 0.8406186103820801\n",
      "22 Epoch: 320 -- Disc: 1.24996817111969 -- Gen: 0.8824897434400476 -- L1: 0.8918775916099548\n",
      "22 Epoch: 340 -- Disc: 1.2408398389816284 -- Gen: 0.8750868258268937 -- L1: 1.026611328125\n",
      "22 Epoch: 360 -- Disc: 1.2260382175445557 -- Gen: 0.9607601995053499 -- L1: 1.0661182403564453\n",
      "22 Epoch: 380 -- Disc: 1.3898839950561523 -- Gen: 1.2719332653543223 -- L1: 0.9487385749816895\n"
     ]
    },
    {
     "data": {
      "text/plain": [
       "array([[0.        , 0.00133954, 0.00124931, 0.00898019, 0.00896695,\n",
       "        0.09946452, 0.00155444, 0.01331744, 0.01760777, 0.05933779,\n",
       "        0.00171873, 0.01523121, 0.0011723 , 0.01815812, 0.00846865,\n",
       "        0.01137196, 0.0050333 , 0.00126946, 0.00678293, 0.00678736,\n",
       "        0.02061869, 0.01582899, 0.01458647],\n",
       "       [0.01503418, 0.        , 0.00142049, 0.00318416, 0.0050873 ,\n",
       "        0.0076121 , 0.0015541 , 0.00273578, 0.02333191, 0.0040944 ,\n",
       "        0.02405502, 0.00678698, 0.00147439, 0.00275562, 0.00441163,\n",
       "        0.00439448, 0.0012058 , 0.00158797, 0.00373413, 0.01712278,\n",
       "        0.00347333, 0.00423917, 0.00480168],\n",
       "       [0.01626365, 0.00051901, 0.        , 0.00481726, 0.0108012 ,\n",
       "        0.00864232, 0.00150456, 0.00419206, 0.00702844, 0.0063683 ,\n",
       "        0.01250282, 0.0091461 , 0.00095985, 0.01044494, 0.01140485,\n",
       "        0.01495718, 0.00265975, 0.00155438, 0.00576286, 0.01320068,\n",
       "        0.00625391, 0.00706424, 0.01095379],\n",
       "       [0.01495551, 0.00236457, 0.00131607, 0.        , 0.00687145,\n",
       "        0.01638283, 0.00162576, 0.00799508, 0.01499946, 0.00941586,\n",
       "        0.0138771 , 0.00902346, 0.00111182, 0.01481175, 0.00709235,\n",
       "        0.00990415, 0.00508651, 0.0012349 , 0.00549672, 0.02593299,\n",
       "        0.00938381, 0.01419329, 0.01316434],\n",
       "       [0.01019125, 0.00104777, 0.00129083, 0.00806847, 0.        ,\n",
       "        0.02853884, 0.00147053, 0.05633154, 0.00837868, 0.02117115,\n",
       "        0.02990537, 0.01425843, 0.00117184, 0.03336165, 0.01989087,\n",
       "        0.0135473 , 0.0017376 , 0.00097014, 0.00724062, 0.12254288,\n",
       "        0.00887083, 0.05346241, 0.01663361],\n",
       "       [0.06902473, 0.0009675 , 0.00168701, 0.01014773, 0.12543422,\n",
       "        0.        , 0.00155311, 0.01514474, 0.0962159 , 0.01344534,\n",
       "        0.08591425, 0.05435544, 0.00091482, 0.03227869, 0.01272393,\n",
       "        0.01306098, 0.00768798, 0.00125628, 0.02718013, 0.04853029,\n",
       "        0.05609749, 0.01939132, 0.02073366],\n",
       "       [0.00640389, 0.00321217, 0.00119284, 0.00346911, 0.02461583,\n",
       "        0.01500265, 0.        , 0.00195075, 0.05492157, 0.01591506,\n",
       "        0.00341173, 0.00970574, 0.00085384, 0.00824325, 0.01926936,\n",
       "        0.01899574, 0.00112279, 0.00134308, 0.00305328, 0.03396581,\n",
       "        0.01675646, 0.02748255, 0.00587171],\n",
       "       [0.00696746, 0.00160247, 0.00099737, 0.02418477, 0.0455923 ,\n",
       "        0.01915433, 0.00155412, 0.        , 0.00960431, 0.00882164,\n",
       "        0.02593321, 0.01663805, 0.00106298, 0.03468139, 0.01824767,\n",
       "        0.01417717, 0.00318101, 0.00132597, 0.00836917, 0.02879996,\n",
       "        0.02607071, 0.03234494, 0.03143334],\n",
       "       [0.02065599, 0.00119953, 0.00189765, 0.00716476, 0.0432507 ,\n",
       "        0.04057685, 0.00155454, 0.00832609, 0.        , 0.00893471,\n",
       "        0.01651959, 0.03924468, 0.00128954, 0.05292673, 0.01293178,\n",
       "        0.00905966, 0.00125067, 0.00103441, 0.02690673, 0.02259908,\n",
       "        0.00929322, 0.02617491, 0.02781493],\n",
       "       [0.00904073, 0.0012267 , 0.00102719, 0.00953797, 0.02687762,\n",
       "        0.00845246, 0.00124539, 0.00619574, 0.00959309, 0.        ,\n",
       "        0.0310993 , 0.00730789, 0.00103707, 0.01842208, 0.00802246,\n",
       "        0.01404835, 0.00412852, 0.00117496, 0.00363778, 0.01772137,\n",
       "        0.01359494, 0.00727939, 0.01573284],\n",
       "       [0.00399217, 0.00116852, 0.00105326, 0.01980934, 0.03174968,\n",
       "        0.02506959, 0.00114297, 0.0216918 , 0.02978405, 0.07606618,\n",
       "        0.        , 0.03093545, 0.00109211, 0.06681246, 0.01927263,\n",
       "        0.0294953 , 0.00232176, 0.0010262 , 0.01338819, 0.0755301 ,\n",
       "        0.01158202, 0.01999841, 0.00933554],\n",
       "       [0.03306927, 0.00113278, 0.0015536 , 0.01563633, 0.07543638,\n",
       "        0.08167002, 0.00095666, 0.0078604 , 0.02695429, 0.04403487,\n",
       "        0.04111639, 0.        , 0.00109831, 0.12131657, 0.0280578 ,\n",
       "        0.02012424, 0.00243151, 0.00149286, 0.00718201, 0.01019383,\n",
       "        0.05919387, 0.0670797 , 0.05449278],\n",
       "       [0.01295237, 0.00077958, 0.00185512, 0.00989605, 0.02558715,\n",
       "        0.01331059, 0.00143371, 0.00815053, 0.02677471, 0.00790996,\n",
       "        0.02537119, 0.01145715, 0.        , 0.09233213, 0.01471448,\n",
       "        0.0093449 , 0.00274323, 0.00052332, 0.00793256, 0.01535418,\n",
       "        0.01580888, 0.01535586, 0.01078433],\n",
       "       [0.03181046, 0.00105464, 0.00117553, 0.00932514, 0.03713883,\n",
       "        0.01022029, 0.00155602, 0.00634802, 0.00385982, 0.02178069,\n",
       "        0.03946621, 0.03161342, 0.00092252, 0.        , 0.01908996,\n",
       "        0.0088107 , 0.00582481, 0.00142884, 0.00836026, 0.03185497,\n",
       "        0.01046761, 0.0173428 , 0.00907815],\n",
       "       [0.00995523, 0.00086474, 0.00204142, 0.00740771, 0.02440734,\n",
       "        0.02083542, 0.00122858, 0.00524323, 0.05171232, 0.02502615,\n",
       "        0.01057704, 0.00982712, 0.00104623, 0.0264292 , 0.        ,\n",
       "        0.050692  , 0.00705493, 0.00115335, 0.00456976, 0.01544863,\n",
       "        0.00750281, 0.03186582, 0.01545215],\n",
       "       [0.01238723, 0.0013425 , 0.0028684 , 0.01429905, 0.04009679,\n",
       "        0.03358421, 0.00133048, 0.00587173, 0.02681601, 0.01417261,\n",
       "        0.09233076, 0.01794088, 0.00141071, 0.03886831, 0.03430609,\n",
       "        0.        , 0.00319463, 0.0011442 , 0.01163215, 0.01709263,\n",
       "        0.01592148, 0.01488675, 0.01603159],\n",
       "       [0.00321336, 0.00321337, 0.00321337, 0.00321336, 0.00321336,\n",
       "        0.00321337, 0.00321337, 0.00321337, 0.00321336, 0.00321337,\n",
       "        0.00321337, 0.00321337, 0.00321336, 0.00321336, 0.00321338,\n",
       "        0.00321337, 0.        , 0.00321337, 0.00321337, 0.00321336,\n",
       "        0.00321337, 0.00321336, 0.00321336],\n",
       "       [0.0096467 , 0.00086593, 0.00103201, 0.00621032, 0.01487662,\n",
       "        0.00645519, 0.0011418 , 0.00238878, 0.0070088 , 0.00233827,\n",
       "        0.0037147 , 0.00838831, 0.00092454, 0.00408292, 0.0556913 ,\n",
       "        0.02869517, 0.00269706, 0.        , 0.00550505, 0.02601984,\n",
       "        0.01647084, 0.02037861, 0.00795162],\n",
       "       [0.0402564 , 0.00107089, 0.00108722, 0.00601607, 0.01591406,\n",
       "        0.01198074, 0.00155171, 0.02533888, 0.05993899, 0.0280632 ,\n",
       "        0.04818086, 0.0242162 , 0.00123938, 0.01410942, 0.0073068 ,\n",
       "        0.01808432, 0.00144373, 0.00058731, 0.        , 0.06144971,\n",
       "        0.03355967, 0.01262541, 0.02990963],\n",
       "       [0.01676641, 0.00080507, 0.00212782, 0.00777731, 0.04884188,\n",
       "        0.01590639, 0.00121268, 0.01012724, 0.1081591 , 0.02617973,\n",
       "        0.09606225, 0.0223308 , 0.00098707, 0.04094299, 0.01477618,\n",
       "        0.03762347, 0.00165536, 0.00085599, 0.02599494, 0.        ,\n",
       "        0.01112887, 0.0119369 , 0.03334279],\n",
       "       [0.09220801, 0.00095663, 0.00172497, 0.01277425, 0.01697983,\n",
       "        0.07337642, 0.00194877, 0.0073467 , 0.0733028 , 0.0322525 ,\n",
       "        0.0271996 , 0.03726767, 0.00110455, 0.03642635, 0.01110116,\n",
       "        0.01046508, 0.00270773, 0.00092958, 0.07518809, 0.01932987,\n",
       "        0.        , 0.03977516, 0.01327644],\n",
       "       [0.02106048, 0.00105765, 0.00253284, 0.00922585, 0.03032577,\n",
       "        0.01554649, 0.00084027, 0.07902319, 0.0343363 , 0.03373485,\n",
       "        0.03759471, 0.02738567, 0.00087401, 0.01750186, 0.02424008,\n",
       "        0.02433425, 0.00385368, 0.00133112, 0.00555235, 0.02286031,\n",
       "        0.00718133, 0.        , 0.04472648],\n",
       "       [0.01241428, 0.00100346, 0.00176248, 0.00448778, 0.05850891,\n",
       "        0.01286717, 0.00162627, 0.01201237, 0.08290989, 0.03014389,\n",
       "        0.04776678, 0.01728331, 0.00124394, 0.02605716, 0.009937  ,\n",
       "        0.01617596, 0.00298153, 0.001107  , 0.01805857, 0.02938388,\n",
       "        0.03065504, 0.06083745, 0.        ]], dtype=float32)"
      ]
     },
     "execution_count": 11,
     "metadata": {},
     "output_type": "execute_result"
    }
   ],
   "source": [
    "from csam import SAM\n",
    "sam = SAM(nh=10, dnh=50, lr=0.01, dlr=.01, batchsize=-1, train_epochs=200, test_epochs=200)\n",
    "sam.predict(mush_df,categorical_variables=[True for i in range(len(mush_df.columns))], nruns=1, gpus=1)"
   ]
  },
  {
   "cell_type": "code",
   "execution_count": 12,
   "metadata": {},
   "outputs": [
    {
     "name": "stderr",
     "output_type": "stream",
     "text": [
      "../generators/csam.py:142: UserWarning: Implicit dimension choice for softmax has been deprecated. Change the call to include dim=X as an argument.\n",
      "  return self.softmax(self.layers(self.filter(x)))\n"
     ]
    }
   ],
   "source": [
    "gdata = sam.generate(mush_df, [True for i in range(len(mush_df.columns))], gpu=True) \n"
   ]
  },
  {
   "cell_type": "code",
   "execution_count": null,
   "metadata": {},
   "outputs": [],
   "source": [
    "gdata =  [i.data.cpu().numpy() for i in gdata]\n"
   ]
  },
  {
   "cell_type": "code",
   "execution_count": 51,
   "metadata": {},
   "outputs": [],
   "source": [
    "gdata[16].fill(1)  # One column \n",
    "d1 = [[np.random.choice(len(j[0]),p=np.abs(j[i])) for i in range(j.shape[0])] for j in gdata]"
   ]
  },
  {
   "cell_type": "code",
   "execution_count": 60,
   "metadata": {},
   "outputs": [],
   "source": [
    "d2 = np.array(d1).transpose()\n",
    "d2.shape\n",
    "pd.DataFrame(d2).to_csv(\"csam_mushrooms.csv\",index=False)"
   ]
  },
  {
   "cell_type": "code",
   "execution_count": 69,
   "metadata": {},
   "outputs": [
    {
     "data": {
      "text/plain": [
       "(8124, 23)"
      ]
     },
     "execution_count": 69,
     "metadata": {},
     "output_type": "execute_result"
    }
   ],
   "source": [
    "onehotdata = []\n",
    "for i in range(len(mush_df.columns)):\n",
    "    onehotdata.append(pd.get_dummies(mush_df.iloc[:, i]).as_matrix())\n",
    "\n",
    "orig_data = [np.array([list(i).index(1) for i in j]) for j in onehotdata]\n",
    "orig_data = np.stack(orig_data, 1)\n",
    "orig_data.shape"
   ]
  },
  {
   "cell_type": "code",
   "execution_count": 71,
   "metadata": {},
   "outputs": [
    {
     "name": "stdout",
     "output_type": "stream",
     "text": [
      "Covariance discrepancy:  0.1454029346739835\n",
      "Correlation discrepancy:  nan\n"
     ]
    },
    {
     "name": "stderr",
     "output_type": "stream",
     "text": [
      "/home/tao/dkalaina/conda/envs/py35/lib/python3.5/site-packages/numpy/lib/function_base.py:3183: RuntimeWarning: invalid value encountered in true_divide\n",
      "  c /= stddev[:, None]\n",
      "/home/tao/dkalaina/conda/envs/py35/lib/python3.5/site-packages/numpy/lib/function_base.py:3184: RuntimeWarning: invalid value encountered in true_divide\n",
      "  c /= stddev[None, :]\n"
     ]
    },
    {
     "name": "stdout",
     "output_type": "stream",
     "text": [
      "Relief divergence:  0.141874783970976\n",
      "KS_test:  (array([2.33874938e-03, 4.49409158e-01, 3.88847858e-01, 1.52018710e-01,\n",
      "       7.38552437e-04, 1.46356475e-01, 2.58493353e-02, 4.55440670e-03,\n",
      "       1.47710487e-03, 2.16395864e-01, 7.38552437e-04, 6.11521418e-01,\n",
      "       9.30329887e-01, 5.26834072e-02, 1.38109306e-01, 6.01920236e-02,\n",
      "       0.00000000e+00, 9.69103890e-01, 4.06203840e-03, 2.36336780e-02,\n",
      "       1.70236337e-01, 2.09379616e-01, 1.34539636e-01]), array([1.00000000e+000, 0.00000000e+000, 0.00000000e+000, 2.84109023e-082,\n",
      "       1.00000000e+000, 2.73577267e-076, 8.60021149e-003, 9.99996013e-001,\n",
      "       1.00000000e+000, 2.84000017e-166, 1.00000000e+000, 0.00000000e+000,\n",
      "       0.00000000e+000, 2.95732851e-010, 5.57232708e-068, 2.94560493e-013,\n",
      "       1.00000000e+000, 0.00000000e+000, 9.99999895e-001, 2.10286437e-002,\n",
      "       4.58308472e-103, 1.08043422e-155, 1.55974628e-064]))\n",
      "NN discrepancy 0.998522895125554\n",
      "BAC metric [9.96588045e-01 1.90995000e+19 1.23000000e+18 5.49090000e+19\n",
      " 9.96830669e-01 3.69905000e+19 5.00000000e-01 9.36813666e-01\n",
      " 9.92591796e-01 1.05934500e+20 9.98346102e-01 6.78571429e-01\n",
      " 5.01133167e-01 2.31750000e+18 1.00116500e+20 1.03265000e+20\n",
      " 1.00000000e+00 5.21981463e-01 2.83500000e+17 1.95465000e+19\n",
      " 4.85300000e+19 3.06825000e+19 5.06800000e+18]\n"
     ]
    }
   ],
   "source": [
    "from metric import *\n",
    "\n",
    "mush_orig = orig_data\n",
    "mush_artif = d2\n",
    "\n",
    "print('Covariance discrepancy: ', cov_discrepancy(mush_orig, mush_artif))\n",
    "print('Correlation discrepancy: ', corr_discrepancy(mush_orig, mush_artif))\n",
    "print('Relief divergence: ', relief_divergence(mush_orig, mush_artif))\n",
    "print('KS_test: ', ks_test(mush_orig, mush_artif))\n",
    "print('NN discrepancy', nn_discrepancy(mush_orig, mush_artif))\n",
    "print('BAC metric', bac_metric(mush_orig, mush_artif))"
   ]
  },
  {
   "cell_type": "code",
   "execution_count": 73,
   "metadata": {},
   "outputs": [
    {
     "data": {
      "text/plain": [
       "array([[<matplotlib.axes._subplots.AxesSubplot object at 0x7f27a5126898>,\n",
       "        <matplotlib.axes._subplots.AxesSubplot object at 0x7f27a525fb70>],\n",
       "       [<matplotlib.axes._subplots.AxesSubplot object at 0x7f27a5268470>,\n",
       "        <matplotlib.axes._subplots.AxesSubplot object at 0x7f27a4b68278>],\n",
       "       [<matplotlib.axes._subplots.AxesSubplot object at 0x7f27a741f6a0>,\n",
       "        <matplotlib.axes._subplots.AxesSubplot object at 0x7f27a52cae10>]],\n",
       "      dtype=object)"
      ]
     },
     "execution_count": 73,
     "metadata": {},
     "output_type": "execute_result"
    },
    {
     "data": {
      "image/png": "[encoded data removed]",
      "text/plain": [
       "<matplotlib.figure.Figure at 0x7f27a50cd358>"
      ]
     },
     "metadata": {},
     "output_type": "display_data"
    }
   ],
   "source": [
    "pd.DataFrame(orig_data[:,0:6]).hist()"
   ]
  },
  {
   "cell_type": "code",
   "execution_count": 75,
   "metadata": {
    "scrolled": true
   },
   "outputs": [
    {
     "data": {
      "text/plain": [
       "array([[<matplotlib.axes._subplots.AxesSubplot object at 0x7f27a483fda0>,\n",
       "        <matplotlib.axes._subplots.AxesSubplot object at 0x7f27a46e4400>],\n",
       "       [<matplotlib.axes._subplots.AxesSubplot object at 0x7f27a46f1080>,\n",
       "        <matplotlib.axes._subplots.AxesSubplot object at 0x7f27a46643c8>],\n",
       "       [<matplotlib.axes._subplots.AxesSubplot object at 0x7f27a466f518>,\n",
       "        <matplotlib.axes._subplots.AxesSubplot object at 0x7f27a45fe390>]],\n",
       "      dtype=object)"
      ]
     },
     "execution_count": 75,
     "metadata": {},
     "output_type": "execute_result"
    },
    {
     "data": {
      "image/png": "[encoded data removed]",
      "text/plain": [
       "<matplotlib.figure.Figure at 0x7f27a4b45da0>"
      ]
     },
     "metadata": {},
     "output_type": "display_data"
    }
   ],
   "source": [
    "pd.DataFrame(d2[:,0:6]).hist()"
   ]
  },
  {
   "cell_type": "code",
   "execution_count": null,
   "metadata": {},
   "outputs": [],
   "source": []
  }
 ],
 "metadata": {
  "kernelspec": {
   "display_name": "Python 3",
   "language": "python",
   "name": "python3"
  },
  "language_info": {
   "codemirror_mode": {
    "name": "ipython",
    "version": 3
   },
   "file_extension": ".py",
   "mimetype": "text/x-python",
   "name": "python",
   "nbconvert_exporter": "python",
   "pygments_lexer": "ipython3",
   "version": "3.5.3"
  }
 },
 "nbformat": 4,
 "nbformat_minor": 2
}

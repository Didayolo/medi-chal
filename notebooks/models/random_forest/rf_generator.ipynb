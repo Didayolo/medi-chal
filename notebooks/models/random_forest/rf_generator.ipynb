{
 "cells": [
  {
   "cell_type": "markdown",
   "metadata": {},
   "source": [
    "# Random Forest Generator\n",
    "\n",
    "### How privacy and resemblance scores vary with the probability of changing a value ? \n",
    "(The proportion of artifical values)"
   ]
  },
  {
   "cell_type": "code",
   "execution_count": 1,
   "metadata": {},
   "outputs": [],
   "source": [
    "data_dir = '../../../data'\n",
    "\n",
    "datasets = {'iris': (data_dir + '/iris', 'iris'),\n",
    "            'iris_1': (data_dir + '/iris_1', 'iris'),\n",
    "            'iris_2': (data_dir + '/iris_2', 'iris'),\n",
    "            'mimic': (data_dir + '/mimic', 'mimic'),\n",
    "            'mushrooms': (data_dir + '/mushrooms', 'mushrooms'),\n",
    "            'chems': (data_dir + '/chems', 'chems'),\n",
    "            'credit': (data_dir + '/credit_data', 'credit'),\n",
    "            'squares': (data_dir + '/squares', 'squares'),\n",
    "            'squares_2': (data_dir + '/squares_2', 'squares')}\n",
    "\n",
    "# Dataset\n",
    "input_dir, basename = datasets['iris']"
   ]
  },
  {
   "cell_type": "code",
   "execution_count": 2,
   "metadata": {
    "collapsed": true
   },
   "outputs": [],
   "source": [
    "# Imports\n",
    "import numpy as np\n",
    "import matplotlib.pyplot as plt\n",
    "from sys import path\n",
    "\n",
    "# AutoML and Comparator\n",
    "main_path = '../../../'\n",
    "path.append(main_path + 'code/auto_ml')\n",
    "path.append(main_path + 'code/processing')\n",
    "path.append(main_path + 'code/functions')\n",
    "path.append(main_path + 'code/models')\n",
    "path.append(main_path + 'data')\n",
    "path.append(main_path + 'generators')\n",
    "%matplotlib inline\n",
    "%load_ext autoreload\n",
    "%autoreload 2\n",
    "\n",
    "from auto_ml import AutoML\n",
    "from comparator import Comparator\n",
    "\n",
    "# Generator\n",
    "from rf_generator import RF_generator"
   ]
  },
  {
   "cell_type": "markdown",
   "metadata": {},
   "source": [
    "### Train the generator"
   ]
  },
  {
   "cell_type": "code",
   "execution_count": 3,
   "metadata": {},
   "outputs": [],
   "source": [
    "original_data = AutoML(input_dir, basename)\n",
    "gen = RF_generator(original_data)\n",
    "gen.fit()"
   ]
  },
  {
   "cell_type": "markdown",
   "metadata": {},
   "source": [
    "### Generate data and compute scores"
   ]
  },
  {
   "cell_type": "code",
   "execution_count": 4,
   "metadata": {},
   "outputs": [
    {
     "data": {
      "text/plain": [
       "<auto_ml.AutoML at 0x7feb08ffb400>"
      ]
     },
     "execution_count": 4,
     "metadata": {},
     "output_type": "execute_result"
    }
   ],
   "source": [
    "#gen_data = \n",
    "gen.generate_to_automl(\"../../../data\", \"iris_gen\", p=1)"
   ]
  },
  {
   "cell_type": "code",
   "execution_count": null,
   "metadata": {},
   "outputs": [],
   "source": [
    "ps = [] # privacy\n",
    "rs = [] # resemblance\n",
    "\n",
    "thresholds = np.arange(0.2, 0.8, 0.1)\n",
    "\n",
    "for threshold in thresholds:\n",
    "        \n",
    "    # Comparator for metric testing\n",
    "    comparator = Comparator(original_data, AutoML('../../../data', 'iris_gen'))\n",
    "    comparator.compute_mda(norm='manhattan', precision=0.01, threshold=threshold)\n",
    "\n",
    "    # TODO class MDA\n",
    "    (_, _), (privacy1, resemblance1), _ = comparator.mda1\n",
    "    ps.append(privacy1)\n",
    "    rs.append(resemblance1)\n",
    "    #(_, _), (privacy2, resemblance2), _ = comparator.mda2\n",
    "        \n",
    "plt.plot(thresholds, ps, label='privacy')\n",
    "plt.plot(thresholds, rs, label='resemblance')\n",
    "plt.ylabel('score')\n",
    "plt.xlabel('threshold')\n",
    "plt.legend()\n",
    "plt.show()"
   ]
  },
  {
   "cell_type": "code",
   "execution_count": null,
   "metadata": {
    "scrolled": false
   },
   "outputs": [],
   "source": [
    "for threshold in [0.1, 0.3, 0.5]:\n",
    "    x = np.arange(0, 1.1, 0.1)\n",
    "    ps = [] # privacy\n",
    "    rs = [] # resemblance\n",
    "    for p in x:\n",
    "        # Generation\n",
    "        folder_name = '../../../data/'+basename+'_rf_'+str(p)\n",
    "        gen_basename = basename+'_rf'\n",
    "        ds = gen.generate_to_automl(folder_name, gen_basename, p=p)\n",
    "        \n",
    "        # Comparator for metric testing\n",
    "        comparator = Comparator(AutoML(input_dir, basename), ds)\n",
    "        comparator.compute_mda(norm='manhattan', precision=0.01, threshold=threshold)\n",
    "        \n",
    "        # TODO class MDA\n",
    "        (_, _), (privacy1, resemblance1), _ = comparator.mda1\n",
    "        ps.append(privacy1)\n",
    "        rs.append(resemblance1)\n",
    "        #(_, _), (privacy2, resemblance2), _ = comparator.mda2\n",
    "        \n",
    "    print('Threshold: {}'.format(threshold))\n",
    "    plt.plot(x, ps, label='privacy')\n",
    "    plt.plot(x, rs, label='resemblance')\n",
    "    #plt.plot(x, ps, label='threshold='+str(threshold))\n",
    "    #plt.plot(x, rs, label='threshold='+str(threshold))\n",
    "    plt.ylabel('score')\n",
    "    plt.xlabel('p')\n",
    "    plt.legend()\n",
    "    plt.show()"
   ]
  },
  {
   "cell_type": "code",
   "execution_count": null,
   "metadata": {
    "scrolled": false
   },
   "outputs": [],
   "source": [
    "for threshold in np.arange(0.2, 0.8, 0.1):\n",
    "\n",
    "    #threshold = 0.4\n",
    "    #x = np.arange(0, 1.1, 0.1)\n",
    "    for p in [1]: #x:\n",
    "        # Generation\n",
    "        folder_name = '../../../data/'+basename+'_rf_'+str(p)\n",
    "        gen_basename = basename+'_rf'\n",
    "        ds = gen.generate_to_automl(folder_name, gen_basename, p=p)\n",
    "\n",
    "        # Comparator for metric testing\n",
    "        comparator = Comparator(AutoML(input_dir, basename), ds)\n",
    "        comparator.compute_mda(norm='manhattan', precision=0.01, threshold=threshold)\n",
    "\n",
    "        comparator.show_mda()"
   ]
  },
  {
   "cell_type": "markdown",
   "metadata": {},
   "source": [
    "## COMPARISON OF DIFFERENT METRICS ON MDA"
   ]
  },
  {
   "cell_type": "code",
   "execution_count": 8,
   "metadata": {},
   "outputs": [
    {
     "data": {
      "image/png": "[encoded data removed]",
      "text/plain": [
       "<matplotlib.figure.Figure at 0x7feac7c0c898>"
      ]
     },
     "metadata": {},
     "output_type": "display_data"
    }
   ],
   "source": [
    "dist_metrics=['manhattan', 'euclidean', 'minimum', 'maximum']\n",
    "privacy_values=[]\n",
    "resemblance_values=[]\n",
    "\n",
    "for metric in dist_metrics:\n",
    "    comparator = Comparator(original_data, AutoML('../../../data', 'iris_gen'))\n",
    "    comparator.compute_mda(norm=metric, precision=0.01, threshold=0.4)\n",
    "    (_, _), (privacy1, resemblance1), _ = comparator.mda1\n",
    "    privacy_values.append(privacy1)\n",
    "    resemblance_values.append(resemblance1)\n",
    "\n",
    "fig, ax = plt.subplots()\n",
    "ind = np.arange(4)\n",
    "width = 0.4\n",
    "privacy_bar = ax.bar(ind, privacy_values, width, color='r')\n",
    "resemblance_bar = ax.bar(ind+width, resemblance_values, width, color='b')\n",
    "ax.set_ylabel('Scores')\n",
    "ax.set_title('Scores by Metrics')\n",
    "ax.set_xticks(ind + width / 2)\n",
    "ax.set_xticklabels(dist_metrics)\n",
    "ax.legend((privacy_bar[0], resemblance_bar[0]), ('Privacy', 'Resemblance'))\n",
    "\n",
    "def autolabel(bars):\n",
    "    \"\"\"\n",
    "    Attach a text label above each bar displaying its height\n",
    "    \"\"\"\n",
    "    for bar in bars:\n",
    "        height = bar.get_height()\n",
    "        ax.text(bar.get_x() + bar.get_width()/2., 1.05*height,\n",
    "                '%.5f' % float(height),\n",
    "                ha='center', va='bottom')\n",
    "\n",
    "autolabel(privacy_bar)\n",
    "autolabel(resemblance_bar)\n"
   ]
  },
  {
   "cell_type": "code",
   "execution_count": null,
   "metadata": {
    "collapsed": true
   },
   "outputs": [],
   "source": [
    "# Other comparator functions\n",
    "\n",
    "#comparator.show_descriptors()\n",
    "#comparator.show_comparison_matrix()\n",
    "\n",
    "#comparator.show_classifier_score()\n",
    "\n",
    "#from sklearn.ensemble import RandomForestClassifier\n",
    "#comparator.show_classifier_score(clf=RandomForestClassifier(n_estimators=200))"
   ]
  },
  {
   "cell_type": "code",
   "execution_count": null,
   "metadata": {
    "collapsed": true
   },
   "outputs": [],
   "source": []
  }
 ],
 "metadata": {
  "kernelspec": {
   "display_name": "Python 3",
   "language": "python",
   "name": "python3"
  },
  "language_info": {
   "codemirror_mode": {
    "name": "ipython",
    "version": 3
   },
   "file_extension": ".py",
   "mimetype": "text/x-python",
   "name": "python",
   "nbconvert_exporter": "python",
   "pygments_lexer": "ipython3",
   "version": "3.6.1"
  }
 },
 "nbformat": 4,
 "nbformat_minor": 2
}

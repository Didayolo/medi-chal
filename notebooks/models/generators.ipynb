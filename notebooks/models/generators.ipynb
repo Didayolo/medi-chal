{
 "cells": [
  {
   "cell_type": "markdown",
   "metadata": {},
   "source": [
    "# Generators\n",
    "\n",
    "### Gaussian Multivariate and Parzen Windows (KDE)"
   ]
  },
  {
   "cell_type": "code",
   "execution_count": 2,
   "metadata": {},
   "outputs": [],
   "source": [
    "# Imports\n",
    "import numpy as np\n",
    "import pandas as pd\n",
    "\n",
    "from sklearn.mixture import GaussianMixture\n",
    "from sklearn.model_selection import train_test_split\n",
    "from sklearn.neighbors import KernelDensity"
   ]
  },
  {
   "cell_type": "markdown",
   "metadata": {},
   "source": [
    "### Initialization"
   ]
  },
  {
   "cell_type": "code",
   "execution_count": 106,
   "metadata": {},
   "outputs": [],
   "source": [
    "input_dir = 'iris'\n",
    "basename = input_dir # 'iris'\n",
    "\n",
    "#data = pd.read_csv(input_dir + '/' + basename + '_sdv.csv')\n",
    "#X_train = pd.read_csv(input_dir + '/' + basename + '_train_sdv.csv')"
   ]
  },
  {
   "cell_type": "markdown",
   "metadata": {},
   "source": [
    "### Train/test split"
   ]
  },
  {
   "cell_type": "code",
   "execution_count": 93,
   "metadata": {},
   "outputs": [],
   "source": [
    "#X_train, X_test = train_test_split(data, test_size=0.3)\n",
    "#X_train.to_csv(input_dir + '/' + basename + '_train_sdv.csv', index=False)\n",
    "#X_test.to_csv(input_dir + '/' + basename + '_test_sdv.csv', index=False)"
   ]
  },
  {
   "cell_type": "markdown",
   "metadata": {},
   "source": [
    "### Multivariate Gaussian"
   ]
  },
  {
   "cell_type": "code",
   "execution_count": 104,
   "metadata": {},
   "outputs": [],
   "source": [
    "gm = GaussianMixture()\n",
    "gm.fit(X_train)\n",
    "gen = pd.DataFrame(gm.sample(30000)[0], columns=X_train.columns)\n",
    "gen.to_csv(input_dir + '/' + basename + '_mg.csv', index=False)"
   ]
  },
  {
   "cell_type": "markdown",
   "metadata": {},
   "source": [
    "### KDE"
   ]
  },
  {
   "cell_type": "code",
   "execution_count": 105,
   "metadata": {},
   "outputs": [],
   "source": [
    "kd = KernelDensity(bandwidth=0.2)\n",
    "kd.fit(X_train)\n",
    "gen = pd.DataFrame(kd.sample(30000), columns=X_train.columns)\n",
    "gen.to_csv(input_dir + '/' + basename + '_kd.csv', index=False)"
   ]
  },
  {
   "cell_type": "markdown",
   "metadata": {},
   "source": [
    "### Save wGAN"
   ]
  },
  {
   "cell_type": "code",
   "execution_count": 116,
   "metadata": {},
   "outputs": [],
   "source": [
    "# tmp\n",
    "array = np.load(basename + '.npy')\n",
    "columns = pd.read_csv(input_dir + '/' + basename + '_train_sdv.csv').columns\n",
    "pd.DataFrame(array).to_csv(input_dir + '/' + basename + '_wgan.csv', index=False, header=columns)"
   ]
  },
  {
   "cell_type": "code",
   "execution_count": null,
   "metadata": {},
   "outputs": [],
   "source": []
  }
 ],
 "metadata": {
  "kernelspec": {
   "display_name": "Python 3",
   "language": "python",
   "name": "python3"
  },
  "language_info": {
   "codemirror_mode": {
    "name": "ipython",
    "version": 3
   },
   "file_extension": ".py",
   "mimetype": "text/x-python",
   "name": "python",
   "nbconvert_exporter": "python",
   "pygments_lexer": "ipython3",
   "version": "3.7.0"
  }
 },
 "nbformat": 4,
 "nbformat_minor": 2
}

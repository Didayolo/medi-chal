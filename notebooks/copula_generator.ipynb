{
 "cells": [
  {
   "cell_type": "code",
   "execution_count": 26,
   "metadata": {},
   "outputs": [],
   "source": [
    "%matplotlib inline\n",
    "%reload_ext autoreload\n",
    "%autoreload 2"
   ]
  },
  {
   "cell_type": "code",
   "execution_count": 1,
   "metadata": {},
   "outputs": [],
   "source": [
    "import numpy as np\n",
    "import pandas as pd\n",
    "\n",
    "mimic_df = pd.read_csv('../data/mimic/final_df_sdv.csv')"
   ]
  },
  {
   "cell_type": "code",
   "execution_count": 19,
   "metadata": {},
   "outputs": [],
   "source": [
    "from sys import path\n",
    "\n",
    "generator_dir = '../generators/'\n",
    "utils_dir = '../data_manager/'\n",
    "path.append(problem_dir)\n",
    "path.append(utils_dir)"
   ]
  },
  {
   "cell_type": "code",
   "execution_count": 4,
   "metadata": {},
   "outputs": [
    {
     "name": "stdout",
     "output_type": "stream",
     "text": [
      "X marginals to uniforms...\n",
      "X uniforms to inverse gaussian cdf...\n",
      "Gaussian Kernel Density Estimation...\n",
      "Generating artificial data \n",
      " Sampling from KDE distribution...\n",
      "Marginal retrofitting...\n"
     ]
    }
   ],
   "source": [
    "from copula_generator import copula_generate\n",
    "\n",
    "mimic_artif_df = pd.DataFrame(copula_generate(mimic_df), columns = mimic_df.columns)"
   ]
  },
  {
   "cell_type": "code",
   "execution_count": 18,
   "metadata": {},
   "outputs": [],
   "source": [
    "mimic_artif_df.to_csv('artificial_df.csv', index=False)"
   ]
  },
  {
   "cell_type": "code",
   "execution_count": 27,
   "metadata": {},
   "outputs": [
    {
     "name": "stdout",
     "output_type": "stream",
     "text": [
      "Covariance discrepancy:  0.005400036373632088\n",
      "Correlation discrepancy:  0.0036873592580024877\n",
      "Relief divergence:  0.6412921076306635\n",
      "KS_test:  (array([0.5       , 0.5       , 0.52379493, ..., 0.54575163, 0.54411765,\n",
      "       0.51582925]), array([0., 0., 0., ..., 0., 0., 0.]))\n",
      "NN discrepancy 0.5466707516339868\n",
      "BAC metric [0.49569995 0.49928865 0.50223007 ... 0.50468946 0.50517763 0.50287322]\n"
     ]
    }
   ],
   "source": [
    "from metric import *\n",
    "\n",
    "mimic = mimic_df.values\n",
    "mimic_artif = mimic_artif_df.values\n",
    "\n",
    "print('Covariance discrepancy: ', cov_discrepancy(mimic, mimic_artif))\n",
    "print('Correlation discrepancy: ', corr_discrepancy(mimic, mimic_artif))\n",
    "print('Relief divergence: ', relief_divergence(mimic, mimic_artif))\n",
    "print('KS_test: ', ks_test(mimic, mimic_artif))\n",
    "print('NN discrepancy', nn_discrepancy(mimic, mimic_artif))\n",
    "print('BAC metric', bac_metric(mimic, mimic_artif))"
   ]
  },
  {
   "cell_type": "code",
   "execution_count": null,
   "metadata": {},
   "outputs": [],
   "source": []
  }
 ],
 "metadata": {
  "kernelspec": {
   "display_name": "Python 3",
   "language": "python",
   "name": "python3"
  },
  "language_info": {
   "codemirror_mode": {
    "name": "ipython",
    "version": 3
   },
   "file_extension": ".py",
   "mimetype": "text/x-python",
   "name": "python",
   "nbconvert_exporter": "python",
   "pygments_lexer": "ipython3",
   "version": "3.5.1"
  }
 },
 "nbformat": 4,
 "nbformat_minor": 2
}

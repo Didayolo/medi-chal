{
 "cells": [
  {
   "cell_type": "code",
   "execution_count": 4,
   "metadata": {},
   "outputs": [],
   "source": [
    "import numpy as np\n",
    "import pandas as pd\n",
    "\n",
    "mimic_df = pd.read_csv('../data/mimic/final_df_sdv.csv')"
   ]
  },
  {
   "cell_type": "code",
   "execution_count": 5,
   "metadata": {},
   "outputs": [
    {
     "name": "stdout",
     "output_type": "stream",
     "text": [
      "X marginals to uniforms...\n",
      "X uniforms to inverse gaussian cdf...\n",
      "Gaussian Kernel Density Estimation...\n",
      "Generating artificial data \n",
      " Sampling from KDE distribution...\n",
      "Marginal retrofitting...\n"
     ]
    }
   ],
   "source": [
    "from sys import path\n",
    "\n",
    "problem_dir = '../generators/'  \n",
    "path.append(problem_dir)"
   ]
  },
  {
   "cell_type": "code",
   "execution_count": null,
   "metadata": {},
   "outputs": [],
   "source": [
    "from copula_generator import copula_generate\n",
    "\n",
    "mimic_artif_df = pd.DataFrame(copula_generate(mimic_df), columns = mimic.columns)"
   ]
  }
 ],
 "metadata": {
  "kernelspec": {
   "display_name": "Python 3",
   "language": "python",
   "name": "python3"
  },
  "language_info": {
   "codemirror_mode": {
    "name": "ipython",
    "version": 3
   },
   "file_extension": ".py",
   "mimetype": "text/x-python",
   "name": "python",
   "nbconvert_exporter": "python",
   "pygments_lexer": "ipython3",
   "version": "3.5.1"
  }
 },
 "nbformat": 4,
 "nbformat_minor": 2
}

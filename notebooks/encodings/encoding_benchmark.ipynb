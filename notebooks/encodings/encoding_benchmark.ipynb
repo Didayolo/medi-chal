{
 "cells": [
  {
   "cell_type": "markdown",
   "metadata": {},
   "source": [
    "# Categorical variable encodings\n",
    "\n",
    "- None (baseline)\n",
    "- Label\n",
    "- One-hot and \"rare values\" one-hot\n",
    "- Feature hashing with x features\n",
    "- Target\n",
    "- Likelihood\n",
    "- Frequency and probability\n",
    "- Cat2Vec\n",
    "- Deep category embedding\n",
    "\n",
    "### Sources:\n",
    "\n",
    "- https://en.wikipedia.org/wiki/Feature_hashing\n",
    "\n",
    "- https://blog.myyellowroad.com/using-categorical-data-in-machine-learning-with-python-from-dummy-variables-to-deep-category-66041f734512\n",
    "\n",
    "- https://blog.myyellowroad.com/using-categorical-data-in-machine-learning-with-python-from-dummy-variables-to-deep-category-42fd0a43b009\n",
    "\n",
    "- https://openreview.net/pdf?id=HyNxRZ9xg\n",
    "\n",
    "- https://arxiv.org/abs/1604.06737"
   ]
  },
  {
   "cell_type": "markdown",
   "metadata": {},
   "source": [
    "### Read data"
   ]
  },
  {
   "cell_type": "code",
   "execution_count": 2,
   "metadata": {},
   "outputs": [],
   "source": [
    "input_dir, basename = '../../data/adult', 'adult'"
   ]
  },
  {
   "cell_type": "code",
   "execution_count": 3,
   "metadata": {},
   "outputs": [],
   "source": [
    "# Imports\n",
    "import numpy as np\n",
    "import matplotlib.pyplot as plt\n",
    "import seaborn as sns\n",
    "import pandas as pd\n",
    "import time\n",
    "from itertools import chain\n",
    "\n",
    "# Sklearn\n",
    "from sklearn.linear_model import LogisticRegression\n",
    "from sklearn.ensemble import RandomForestClassifier\n",
    "from sklearn.metrics import classification_report\n",
    "from sklearn.metrics import log_loss\n",
    "\n",
    "# AutoML\n",
    "import sys\n",
    "main_path = '../../'\n",
    "sys.path.append(main_path + 'code/auto_ml')\n",
    "sys.path.append(main_path + 'code/processing')\n",
    "sys.path.append(main_path + 'code/functions')\n",
    "sys.path.append(main_path + 'code/models')\n",
    "sys.path.append(main_path + 'data')\n",
    "\n",
    "%matplotlib inline\n",
    "%load_ext autoreload\n",
    "%autoreload 2\n",
    "\n",
    "from auto_ml import AutoML\n",
    "import encoding"
   ]
  },
  {
   "cell_type": "code",
   "execution_count": 4,
   "metadata": {},
   "outputs": [],
   "source": [
    "D = AutoML(input_dir, basename)"
   ]
  },
  {
   "cell_type": "markdown",
   "metadata": {},
   "source": [
    "### Quick visualization"
   ]
  },
  {
   "cell_type": "code",
   "execution_count": 5,
   "metadata": {},
   "outputs": [
    {
     "data": {
      "text/html": [
       "<div>\n",
       "<style scoped>\n",
       "    .dataframe tbody tr th:only-of-type {\n",
       "        vertical-align: middle;\n",
       "    }\n",
       "\n",
       "    .dataframe tbody tr th {\n",
       "        vertical-align: top;\n",
       "    }\n",
       "\n",
       "    .dataframe thead th {\n",
       "        text-align: right;\n",
       "    }\n",
       "</style>\n",
       "<table border=\"1\" class=\"dataframe\">\n",
       "  <thead>\n",
       "    <tr style=\"text-align: right;\">\n",
       "      <th></th>\n",
       "      <th>age</th>\n",
       "      <th>workclass</th>\n",
       "      <th>fnlwgt</th>\n",
       "      <th>education</th>\n",
       "      <th>education-num</th>\n",
       "      <th>marital-status</th>\n",
       "      <th>occupation</th>\n",
       "      <th>relationship</th>\n",
       "      <th>race</th>\n",
       "      <th>sex</th>\n",
       "      <th>capital-gain</th>\n",
       "      <th>capital-loss</th>\n",
       "      <th>hours-per-week</th>\n",
       "      <th>native-country</th>\n",
       "    </tr>\n",
       "  </thead>\n",
       "  <tbody>\n",
       "    <tr>\n",
       "      <th>Type</th>\n",
       "      <td>Numerical</td>\n",
       "      <td>Categorical</td>\n",
       "      <td>Numerical</td>\n",
       "      <td>Categorical</td>\n",
       "      <td>Numerical</td>\n",
       "      <td>Categorical</td>\n",
       "      <td>Categorical</td>\n",
       "      <td>Categorical</td>\n",
       "      <td>Categorical</td>\n",
       "      <td>Binary</td>\n",
       "      <td>Numerical</td>\n",
       "      <td>Numerical</td>\n",
       "      <td>Numerical</td>\n",
       "      <td>Categorical</td>\n",
       "    </tr>\n",
       "  </tbody>\n",
       "</table>\n",
       "</div>"
      ],
      "text/plain": [
       "            age    workclass     fnlwgt    education education-num  \\\n",
       "Type  Numerical  Categorical  Numerical  Categorical     Numerical   \n",
       "\n",
       "     marital-status   occupation relationship         race     sex  \\\n",
       "Type    Categorical  Categorical  Categorical  Categorical  Binary   \n",
       "\n",
       "     capital-gain capital-loss hours-per-week native-country  \n",
       "Type    Numerical    Numerical      Numerical    Categorical  "
      ]
     },
     "metadata": {},
     "output_type": "display_data"
    },
    {
     "data": {
      "text/html": [
       "<div>\n",
       "<style scoped>\n",
       "    .dataframe tbody tr th:only-of-type {\n",
       "        vertical-align: middle;\n",
       "    }\n",
       "\n",
       "    .dataframe tbody tr th {\n",
       "        vertical-align: top;\n",
       "    }\n",
       "\n",
       "    .dataframe thead th {\n",
       "        text-align: right;\n",
       "    }\n",
       "</style>\n",
       "<table border=\"1\" class=\"dataframe\">\n",
       "  <thead>\n",
       "    <tr style=\"text-align: right;\">\n",
       "      <th></th>\n",
       "      <th>age</th>\n",
       "      <th>workclass</th>\n",
       "      <th>fnlwgt</th>\n",
       "      <th>education</th>\n",
       "      <th>education-num</th>\n",
       "      <th>marital-status</th>\n",
       "      <th>occupation</th>\n",
       "      <th>relationship</th>\n",
       "      <th>race</th>\n",
       "      <th>sex</th>\n",
       "      <th>capital-gain</th>\n",
       "      <th>capital-loss</th>\n",
       "      <th>hours-per-week</th>\n",
       "      <th>native-country</th>\n",
       "      <th>class</th>\n",
       "    </tr>\n",
       "  </thead>\n",
       "  <tbody>\n",
       "    <tr>\n",
       "      <th>0</th>\n",
       "      <td>39</td>\n",
       "      <td>State-gov</td>\n",
       "      <td>77516</td>\n",
       "      <td>Bachelors</td>\n",
       "      <td>13</td>\n",
       "      <td>Never-married</td>\n",
       "      <td>Adm-clerical</td>\n",
       "      <td>Not-in-family</td>\n",
       "      <td>White</td>\n",
       "      <td>Male</td>\n",
       "      <td>2174</td>\n",
       "      <td>0</td>\n",
       "      <td>40</td>\n",
       "      <td>United-States</td>\n",
       "      <td>&lt;=50K</td>\n",
       "    </tr>\n",
       "    <tr>\n",
       "      <th>1</th>\n",
       "      <td>50</td>\n",
       "      <td>Self-emp-not-inc</td>\n",
       "      <td>83311</td>\n",
       "      <td>Bachelors</td>\n",
       "      <td>13</td>\n",
       "      <td>Married-civ-spouse</td>\n",
       "      <td>Exec-managerial</td>\n",
       "      <td>Husband</td>\n",
       "      <td>White</td>\n",
       "      <td>Male</td>\n",
       "      <td>0</td>\n",
       "      <td>0</td>\n",
       "      <td>13</td>\n",
       "      <td>United-States</td>\n",
       "      <td>&lt;=50K</td>\n",
       "    </tr>\n",
       "    <tr>\n",
       "      <th>2</th>\n",
       "      <td>38</td>\n",
       "      <td>Private</td>\n",
       "      <td>215646</td>\n",
       "      <td>HS-grad</td>\n",
       "      <td>9</td>\n",
       "      <td>Divorced</td>\n",
       "      <td>Handlers-cleaners</td>\n",
       "      <td>Not-in-family</td>\n",
       "      <td>White</td>\n",
       "      <td>Male</td>\n",
       "      <td>0</td>\n",
       "      <td>0</td>\n",
       "      <td>40</td>\n",
       "      <td>United-States</td>\n",
       "      <td>&lt;=50K</td>\n",
       "    </tr>\n",
       "    <tr>\n",
       "      <th>3</th>\n",
       "      <td>53</td>\n",
       "      <td>Private</td>\n",
       "      <td>234721</td>\n",
       "      <td>11th</td>\n",
       "      <td>7</td>\n",
       "      <td>Married-civ-spouse</td>\n",
       "      <td>Handlers-cleaners</td>\n",
       "      <td>Husband</td>\n",
       "      <td>Black</td>\n",
       "      <td>Male</td>\n",
       "      <td>0</td>\n",
       "      <td>0</td>\n",
       "      <td>40</td>\n",
       "      <td>United-States</td>\n",
       "      <td>&lt;=50K</td>\n",
       "    </tr>\n",
       "    <tr>\n",
       "      <th>4</th>\n",
       "      <td>28</td>\n",
       "      <td>Private</td>\n",
       "      <td>338409</td>\n",
       "      <td>Bachelors</td>\n",
       "      <td>13</td>\n",
       "      <td>Married-civ-spouse</td>\n",
       "      <td>Prof-specialty</td>\n",
       "      <td>Wife</td>\n",
       "      <td>Black</td>\n",
       "      <td>Female</td>\n",
       "      <td>0</td>\n",
       "      <td>0</td>\n",
       "      <td>40</td>\n",
       "      <td>Cuba</td>\n",
       "      <td>&lt;=50K</td>\n",
       "    </tr>\n",
       "  </tbody>\n",
       "</table>\n",
       "</div>"
      ],
      "text/plain": [
       "  age         workclass  fnlwgt  education education-num      marital-status  \\\n",
       "0  39         State-gov   77516  Bachelors            13       Never-married   \n",
       "1  50  Self-emp-not-inc   83311  Bachelors            13  Married-civ-spouse   \n",
       "2  38           Private  215646    HS-grad             9            Divorced   \n",
       "3  53           Private  234721       11th             7  Married-civ-spouse   \n",
       "4  28           Private  338409  Bachelors            13  Married-civ-spouse   \n",
       "\n",
       "          occupation   relationship   race     sex capital-gain capital-loss  \\\n",
       "0       Adm-clerical  Not-in-family  White    Male         2174            0   \n",
       "1    Exec-managerial        Husband  White    Male            0            0   \n",
       "2  Handlers-cleaners  Not-in-family  White    Male            0            0   \n",
       "3  Handlers-cleaners        Husband  Black    Male            0            0   \n",
       "4     Prof-specialty           Wife  Black  Female            0            0   \n",
       "\n",
       "  hours-per-week native-country  class  \n",
       "0             40  United-States  <=50K  \n",
       "1             13  United-States  <=50K  \n",
       "2             40  United-States  <=50K  \n",
       "3             40  United-States  <=50K  \n",
       "4             40           Cuba  <=50K  "
      ]
     },
     "execution_count": 5,
     "metadata": {},
     "output_type": "execute_result"
    }
   ],
   "source": [
    "D.show_feat_type()\n",
    "D.get_data(processed=False).head()"
   ]
  },
  {
   "cell_type": "markdown",
   "metadata": {},
   "source": [
    "## Encodings benchmark"
   ]
  },
  {
   "cell_type": "code",
   "execution_count": 6,
   "metadata": {},
   "outputs": [
    {
     "data": {
      "text/html": [
       "<div>\n",
       "<style scoped>\n",
       "    .dataframe tbody tr th:only-of-type {\n",
       "        vertical-align: middle;\n",
       "    }\n",
       "\n",
       "    .dataframe tbody tr th {\n",
       "        vertical-align: top;\n",
       "    }\n",
       "\n",
       "    .dataframe thead th {\n",
       "        text-align: right;\n",
       "    }\n",
       "</style>\n",
       "<table border=\"1\" class=\"dataframe\">\n",
       "  <thead>\n",
       "    <tr style=\"text-align: right;\">\n",
       "      <th></th>\n",
       "      <th>age</th>\n",
       "      <th>workclass</th>\n",
       "      <th>fnlwgt</th>\n",
       "      <th>education</th>\n",
       "      <th>education-num</th>\n",
       "      <th>marital-status</th>\n",
       "      <th>occupation</th>\n",
       "      <th>relationship</th>\n",
       "      <th>race</th>\n",
       "      <th>sex</th>\n",
       "      <th>capital-gain</th>\n",
       "      <th>capital-loss</th>\n",
       "      <th>hours-per-week</th>\n",
       "      <th>native-country</th>\n",
       "      <th>class</th>\n",
       "    </tr>\n",
       "  </thead>\n",
       "  <tbody>\n",
       "    <tr>\n",
       "      <th>0</th>\n",
       "      <td>39</td>\n",
       "      <td>State-gov</td>\n",
       "      <td>77516</td>\n",
       "      <td>Bachelors</td>\n",
       "      <td>13</td>\n",
       "      <td>Never-married</td>\n",
       "      <td>Adm-clerical</td>\n",
       "      <td>Not-in-family</td>\n",
       "      <td>White</td>\n",
       "      <td>Male</td>\n",
       "      <td>2174</td>\n",
       "      <td>0</td>\n",
       "      <td>40</td>\n",
       "      <td>United-States</td>\n",
       "      <td>0</td>\n",
       "    </tr>\n",
       "    <tr>\n",
       "      <th>1</th>\n",
       "      <td>50</td>\n",
       "      <td>Self-emp-not-inc</td>\n",
       "      <td>83311</td>\n",
       "      <td>Bachelors</td>\n",
       "      <td>13</td>\n",
       "      <td>Married-civ-spouse</td>\n",
       "      <td>Exec-managerial</td>\n",
       "      <td>Husband</td>\n",
       "      <td>White</td>\n",
       "      <td>Male</td>\n",
       "      <td>0</td>\n",
       "      <td>0</td>\n",
       "      <td>13</td>\n",
       "      <td>United-States</td>\n",
       "      <td>0</td>\n",
       "    </tr>\n",
       "    <tr>\n",
       "      <th>2</th>\n",
       "      <td>38</td>\n",
       "      <td>Private</td>\n",
       "      <td>215646</td>\n",
       "      <td>HS-grad</td>\n",
       "      <td>9</td>\n",
       "      <td>Divorced</td>\n",
       "      <td>Handlers-cleaners</td>\n",
       "      <td>Not-in-family</td>\n",
       "      <td>White</td>\n",
       "      <td>Male</td>\n",
       "      <td>0</td>\n",
       "      <td>0</td>\n",
       "      <td>40</td>\n",
       "      <td>United-States</td>\n",
       "      <td>0</td>\n",
       "    </tr>\n",
       "    <tr>\n",
       "      <th>3</th>\n",
       "      <td>53</td>\n",
       "      <td>Private</td>\n",
       "      <td>234721</td>\n",
       "      <td>11th</td>\n",
       "      <td>7</td>\n",
       "      <td>Married-civ-spouse</td>\n",
       "      <td>Handlers-cleaners</td>\n",
       "      <td>Husband</td>\n",
       "      <td>Black</td>\n",
       "      <td>Male</td>\n",
       "      <td>0</td>\n",
       "      <td>0</td>\n",
       "      <td>40</td>\n",
       "      <td>United-States</td>\n",
       "      <td>0</td>\n",
       "    </tr>\n",
       "    <tr>\n",
       "      <th>4</th>\n",
       "      <td>28</td>\n",
       "      <td>Private</td>\n",
       "      <td>338409</td>\n",
       "      <td>Bachelors</td>\n",
       "      <td>13</td>\n",
       "      <td>Married-civ-spouse</td>\n",
       "      <td>Prof-specialty</td>\n",
       "      <td>Wife</td>\n",
       "      <td>Black</td>\n",
       "      <td>Female</td>\n",
       "      <td>0</td>\n",
       "      <td>0</td>\n",
       "      <td>40</td>\n",
       "      <td>Cuba</td>\n",
       "      <td>0</td>\n",
       "    </tr>\n",
       "  </tbody>\n",
       "</table>\n",
       "</div>"
      ],
      "text/plain": [
       "  age         workclass  fnlwgt  education education-num      marital-status  \\\n",
       "0  39         State-gov   77516  Bachelors            13       Never-married   \n",
       "1  50  Self-emp-not-inc   83311  Bachelors            13  Married-civ-spouse   \n",
       "2  38           Private  215646    HS-grad             9            Divorced   \n",
       "3  53           Private  234721       11th             7  Married-civ-spouse   \n",
       "4  28           Private  338409  Bachelors            13  Married-civ-spouse   \n",
       "\n",
       "          occupation   relationship   race     sex capital-gain capital-loss  \\\n",
       "0       Adm-clerical  Not-in-family  White    Male         2174            0   \n",
       "1    Exec-managerial        Husband  White    Male            0            0   \n",
       "2  Handlers-cleaners  Not-in-family  White    Male            0            0   \n",
       "3  Handlers-cleaners        Husband  Black    Male            0            0   \n",
       "4     Prof-specialty           Wife  Black  Female            0            0   \n",
       "\n",
       "  hours-per-week native-country class  \n",
       "0             40  United-States     0  \n",
       "1             13  United-States     0  \n",
       "2             40  United-States     0  \n",
       "3             40  United-States     0  \n",
       "4             40           Cuba     0  "
      ]
     },
     "execution_count": 6,
     "metadata": {},
     "output_type": "execute_result"
    }
   ],
   "source": [
    "# Replacing class by 0 and 1\n",
    "ylabel = encoding.label(D.get_data('y'), 'class')\n",
    "D.set_data(ylabel, 'y')\n",
    "D.get_data().head()"
   ]
  },
  {
   "cell_type": "markdown",
   "metadata": {},
   "source": [
    "### One-hot with rare values management\n",
    "\n",
    "\n",
    "If number of occurences of the category < average number of occurences * coefficient\n",
    "\n",
    "Then it is categorized as \"RARE VALUE\""
   ]
  },
  {
   "cell_type": "code",
   "execution_count": 9,
   "metadata": {},
   "outputs": [
    {
     "data": {
      "image/png": "[encoded data removed]",
      "text/plain": [
       "<Figure size 432x288 with 1 Axes>"
      ]
     },
     "metadata": {},
     "output_type": "display_data"
    }
   ],
   "source": [
    "original = len(D.get_data().columns)\n",
    "\n",
    "D.process_data(missing='most', code='one-hot', norm='none')\n",
    "onehot = len(D.get_data(processed=True).columns)\n",
    "\n",
    "x = np.arange(0, 1.1, 0.1)\n",
    "y = []\n",
    "for coeff in x:\n",
    "    D.process_data(missing='most', code='one-hot', norm='none', rare=True, coeff=coeff)\n",
    "    y.append(len(D.get_data(processed=True).columns))\n",
    "    \n",
    "import matplotlib.pyplot as plt\n",
    "\n",
    "plt.plot(x, y, label='one-hot rare')\n",
    "plt.xlabel('rarity coefficient')\n",
    "plt.ylabel('dimensionality')\n",
    "plt.yticks(np.arange(0, 110, 10))\n",
    "plt.axhline(original, color='g', label='original')\n",
    "plt.axhline(onehot, color='r', label='one-hot')\n",
    "plt.legend()\n",
    "plt.show()"
   ]
  },
  {
   "cell_type": "markdown",
   "metadata": {},
   "source": [
    "** Scores for different coefficient values **"
   ]
  },
  {
   "cell_type": "code",
   "execution_count": 7,
   "metadata": {},
   "outputs": [
    {
     "data": {
      "image/png": "[encoded data removed]",
      "text/plain": [
       "<Figure size 432x288 with 1 Axes>"
      ]
     },
     "metadata": {},
     "output_type": "display_data"
    }
   ],
   "source": [
    "#clf = LogisticRegression()\n",
    "clf = RandomForestClassifier(n_estimators=100)\n",
    "\n",
    "x = np.arange(0, 1, 0.1)\n",
    "y = []\n",
    "\n",
    "# Coeff variation\n",
    "for c in x:\n",
    "\n",
    "    # Processing\n",
    "    D.process_data(missing='most', code='one-hot', norm='none', rare=True, coeff=c)\n",
    "\n",
    "    X_train = D.get_data('X_train', processed=True)\n",
    "    X_test = D.get_data('X_test', processed=True)\n",
    "\n",
    "    y_train = D.get_data('y_train', processed=True).values\n",
    "    y_train = np.argmax(y_train, axis=1)\n",
    "    y_test = D.get_data('y_test', processed=True).values\n",
    "    y_test = np.argmax(y_test, axis=1)\n",
    "\n",
    "    # Train and score\n",
    "    clf.fit(X_train, y_train)\n",
    "    y_pred = clf.predict(X_test)\n",
    "    y.append(log_loss(y_test, y_pred))\n",
    "\n",
    "# Plot\n",
    "plt.plot(x, y)\n",
    "plt.xlabel('rarity coefficient')\n",
    "plt.ylabel('Log loss')\n",
    "plt.show()"
   ]
  },
  {
   "cell_type": "markdown",
   "metadata": {},
   "source": [
    "### Feature hashing\n",
    "\n",
    "**Scores for different features number**"
   ]
  },
  {
   "cell_type": "code",
   "execution_count": 8,
   "metadata": {},
   "outputs": [
    {
     "data": {
      "image/png": "[encoded data removed]",
      "text/plain": [
       "<Figure size 432x288 with 1 Axes>"
      ]
     },
     "metadata": {},
     "output_type": "display_data"
    }
   ],
   "source": [
    "#clf = LogisticRegression()\n",
    "clf = RandomForestClassifier(n_estimators=100)\n",
    "\n",
    "x = list(chain(range(1,15), range(16, 106, 5)))\n",
    "y = []\n",
    "\n",
    "y_train = D.get_data('y_train').values.ravel()\n",
    "y_test = D.get_data('y_test').values.ravel()\n",
    "y_train = y_train.astype('int')\n",
    "y_test = y_test.astype('int')\n",
    "\n",
    "# Features number variation\n",
    "for n in x:\n",
    "\n",
    "    # Processing\n",
    "    X_train = D.get_data('X_train')\n",
    "    X_test = D.get_data('X_test')\n",
    "    X_train = encoding.feature_hashing(X_train, n_features=n)\n",
    "    X_test = encoding.feature_hashing(X_test, n_features=n)\n",
    "    \n",
    "    # Train and score\n",
    "    clf.fit(X_train, y_train)\n",
    "    y_pred = clf.predict(X_test)\n",
    "    y.append(log_loss(y_test, y_pred))\n",
    "    \n",
    "# Plot\n",
    "plt.plot(x, y)\n",
    "plt.xlabel('Number of features')\n",
    "plt.ylabel('Log loss')\n",
    "plt.show()"
   ]
  },
  {
   "cell_type": "markdown",
   "metadata": {},
   "source": [
    "### Target encoding\n",
    "** Scores for different targets**"
   ]
  },
  {
   "cell_type": "code",
   "execution_count": 37,
   "metadata": {},
   "outputs": [
    {
     "data": {
      "image/png": "[encoded data removed]",
      "text/plain": [
       "<Figure size 648x504 with 1 Axes>"
      ]
     },
     "metadata": {},
     "output_type": "display_data"
    }
   ],
   "source": [
    "#clf = LogisticRegression()\n",
    "clf = RandomForestClassifier(n_estimators=100)\n",
    "\n",
    "numerical_columns = list(D.data.columns[[i for i, j in enumerate(D.feat_type) if j=='Numerical']].values)\n",
    "numerical_columns.append('class')\n",
    "y = []\n",
    "\n",
    "for target in numerical_columns:\n",
    "    \n",
    "    # Processing\n",
    "    D.process_data(missing='most', code='target', norm='none', target=target)\n",
    "\n",
    "    X_train = D.get_data('X_train', processed=True)\n",
    "    X_test = D.get_data('X_test', processed=True)\n",
    "\n",
    "    y_train = D.get_data('y_train', processed=True).values.ravel()\n",
    "    y_test = D.get_data('y_test', processed=True).values.ravel()\n",
    "    y_train = y_train.astype('int')\n",
    "    y_test = y_test.astype('int')\n",
    "\n",
    "    # Train and score\n",
    "    clf.fit(X_train, y_train)\n",
    "    y_pred = clf.predict(X_test)\n",
    "    y.append(log_loss(y_test, y_pred))\n",
    "    \n",
    "# Plot\n",
    "results = pd.DataFrame({'Logloss': y, 'Targets': numerical_columns})\n",
    "fig, ax = plt.subplots()\n",
    "fig.set_size_inches(9, 7)\n",
    "sns.barplot(x='Targets', y='Logloss', data=results)\n",
    "plt.show()"
   ]
  },
  {
   "cell_type": "markdown",
   "metadata": {},
   "source": [
    "### Cat2Vec\n",
    "**Size and window variation**"
   ]
  },
  {
   "cell_type": "code",
   "execution_count": 90,
   "metadata": {},
   "outputs": [
    {
     "data": {
      "image/png": "[encoded data removed]",
      "text/plain": [
       "<Figure size 432x288 with 1 Axes>"
      ]
     },
     "metadata": {},
     "output_type": "display_data"
    },
    {
     "data": {
      "image/png": "[encoded data removed]",
      "text/plain": [
       "<Figure size 432x288 with 1 Axes>"
      ]
     },
     "metadata": {},
     "output_type": "display_data"
    }
   ],
   "source": [
    "#clf = LogisticRegression()\n",
    "clf = RandomForestClassifier(n_estimators=100)\n",
    "\n",
    "sizes = np.arange(2,12,1)\n",
    "windows = np.arange(2,12,1)\n",
    "\n",
    "y_train = D.get_data('y_train').values.ravel()\n",
    "y_test = D.get_data('y_test').values.ravel()\n",
    "y_train = y_train.astype('int')\n",
    "y_test = y_test.astype('int')\n",
    "\n",
    "y = []\n",
    "# Size variation\n",
    "for size in sizes:\n",
    "\n",
    "    # Processing\n",
    "    X_train = D.get_data('X_train')\n",
    "    X_test = D.get_data('X_test')\n",
    "    X_train = encoding.cat2vec(X_train, size=size)\n",
    "    X_test = encoding.cat2vec(X_test, size=size)\n",
    "    \n",
    "    # Train and score\n",
    "    clf.fit(X_train, y_train)\n",
    "    y_pred = clf.predict(X_test)\n",
    "    y.append(log_loss(y_test, y_pred))\n",
    "    \n",
    "# Plot\n",
    "plt.plot(sizes, y)\n",
    "plt.xlabel('Size')\n",
    "plt.ylabel('Log loss')\n",
    "plt.show()\n",
    "\n",
    "y = []\n",
    "# Window variation\n",
    "for window in windows:\n",
    "\n",
    "    # Processing\n",
    "    X_train = D.get_data('X_train')\n",
    "    X_test = D.get_data('X_test')\n",
    "    X_train = encoding.cat2vec(X_train, window=window)\n",
    "    X_test = encoding.cat2vec(X_test, window=window)\n",
    "    \n",
    "    # Train and score\n",
    "    clf.fit(X_train, y_train)\n",
    "    y_pred = clf.predict(X_test)\n",
    "    y.append(log_loss(y_test, y_pred))\n",
    "    \n",
    "# Plot\n",
    "plt.plot(windows, y)\n",
    "plt.xlabel('Window')\n",
    "plt.ylabel('Log loss')\n",
    "plt.show()"
   ]
  },
  {
   "cell_type": "markdown",
   "metadata": {},
   "source": [
    "### Encodings comparison"
   ]
  },
  {
   "cell_type": "code",
   "execution_count": 91,
   "metadata": {
    "scrolled": false
   },
   "outputs": [
    {
     "name": "stdout",
     "output_type": "stream",
     "text": [
      "label\n",
      "one-hot\n",
      "target\n",
      "likelihood\n",
      "count\n",
      "feature-hashing\n",
      "one-hot-rare\n",
      "cat2vec\n"
     ]
    },
    {
     "data": {
      "image/png": "[encoded data removed]",
      "text/plain": [
       "<Figure size 828x612 with 1 Axes>"
      ]
     },
     "metadata": {},
     "output_type": "display_data"
    },
    {
     "data": {
      "text/plain": [
       "<matplotlib.axes._subplots.AxesSubplot at 0x7f53daaa9898>"
      ]
     },
     "execution_count": 91,
     "metadata": {},
     "output_type": "execute_result"
    },
    {
     "data": {
      "image/png": "[encoded data removed]",
      "text/plain": [
       "<Figure size 828x612 with 1 Axes>"
      ]
     },
     "metadata": {},
     "output_type": "display_data"
    },
    {
     "data": {
      "image/png": "[encoded data removed]",
      "text/plain": [
       "<Figure size 828x612 with 1 Axes>"
      ]
     },
     "metadata": {},
     "output_type": "display_data"
    }
   ],
   "source": [
    "# benchmark\n",
    "encodings = ['label', 'one-hot', 'target', 'likelihood', 'count', 'feature-hashing', 'one-hot-rare', 'cat2vec'] # 'probability'\n",
    "classifiers = {'logreg' : LogisticRegression(),\n",
    "               'rf' : RandomForestClassifier(n_estimators=100)}\n",
    "\n",
    "# results\n",
    "loss = []\n",
    "encs = []\n",
    "clfs = []\n",
    "\n",
    "dims = dict()\n",
    "times = dict()\n",
    "\n",
    "for code in encodings:\n",
    "    print(code)\n",
    "    start = time.clock()\n",
    "    \n",
    "    if code == 'one-hot-rare':\n",
    "        D.process_data(missing='most', code='one-hot', norm='none', rare=True, coeff=0.2)\n",
    "        \n",
    "    elif code == 'feature-hashing':  \n",
    "        X_train = D.get_data('X_train')\n",
    "        X_test = D.get_data('X_test')\n",
    "        X_train = encoding.feature_hashing(X_train, n_features=20)\n",
    "        X_test = encoding.feature_hashing(X_test, n_features=20)\n",
    "        \n",
    "    elif code == 'cat2vec':\n",
    "        X_train = D.get_data('X_train')\n",
    "        X_test = D.get_data('X_test')\n",
    "        X_train = encoding.cat2vec(X_train, size=7, window=9)\n",
    "        X_test = encoding.cat2vec(X_test, size=7, window=9)\n",
    "        \n",
    "    else:\n",
    "        D.process_data(missing='most', code=code, norm='none', target='class')\n",
    "\n",
    "    if 'feature-hashing' not in code and code != 'cat2vec': # for all instead of feature hashing or cat2vec\n",
    "        X_train = D.get_data('X_train', processed=True)\n",
    "        X_test = D.get_data('X_test', processed=True)\n",
    "\n",
    "    if 'one-hot' in code: # only for one-hot\n",
    "        y_train = D.get_data('y_train', processed=True).values\n",
    "        y_train = np.argmax(y_train, axis=1)\n",
    "        y_test = D.get_data('y_test', processed=True).values\n",
    "        y_test = np.argmax(y_test, axis=1)\n",
    "\n",
    "    else:\n",
    "        y_train = D.get_data('y_train', processed=False).values.ravel()\n",
    "        y_test = D.get_data('y_test', processed=False).values.ravel()\n",
    "        y_train = y_train.astype('int')\n",
    "        y_test = y_test.astype('int')\n",
    "\n",
    "    for k in classifiers.keys():  \n",
    "        clf = classifiers[k]\n",
    "        clf.fit(X_train, y_train)\n",
    "        y_pred = clf.predict(X_test)\n",
    "        \n",
    "        loss.append(log_loss(y_test, y_pred))\n",
    "        encs.append(code)\n",
    "        clfs.append(k)\n",
    "        \n",
    "    dims[code] = len(X_train.columns)\n",
    "    end = time.clock()\n",
    "    times[code] = end - start\n",
    "    \n",
    "# Plots\n",
    "# LOGLOSS PLOT\n",
    "results = pd.DataFrame({'Logloss': loss, 'Encodings': encs, 'Classifiers': clfs})\n",
    "fig, ax = plt.subplots()\n",
    "fig.set_size_inches(11.5, 8.5)\n",
    "sns.barplot(x=\"Encodings\", y=\"Logloss\", hue=\"Classifiers\", data=results)\n",
    "plt.show()\n",
    "\n",
    "# DIMENSIONALITY PLOT\n",
    "results = pd.DataFrame({'Dimensionality': list(dims.values()), 'Encodings': list(dims.keys())})\n",
    "fig, ax = plt.subplots()\n",
    "fig.set_size_inches(11.5, 8.5)\n",
    "sns.barplot(x='Encodings', y='Dimensionality', data=results)\n",
    "\n",
    "# TIME PLOT\n",
    "results = pd.DataFrame({'Time (seconds)': list(times.values()), 'Encodings': list(times.keys())})\n",
    "fig, ax = plt.subplots()\n",
    "fig.set_size_inches(11.5, 8.5)\n",
    "sns.barplot(x='Encodings', y='Time (seconds)', data=results)"
   ]
  },
  {
   "cell_type": "code",
   "execution_count": 86,
   "metadata": {},
   "outputs": [
    {
     "data": {
      "text/plain": [
       "(6512, 1)"
      ]
     },
     "execution_count": 86,
     "metadata": {},
     "output_type": "execute_result"
    }
   ],
   "source": [
    "D.get_data('y_test').shape"
   ]
  },
  {
   "cell_type": "code",
   "execution_count": null,
   "metadata": {},
   "outputs": [],
   "source": []
  }
 ],
 "metadata": {
  "kernelspec": {
   "display_name": "Python 3",
   "language": "python",
   "name": "python3"
  },
  "language_info": {
   "codemirror_mode": {
    "name": "ipython",
    "version": 3
   },
   "file_extension": ".py",
   "mimetype": "text/x-python",
   "name": "python",
   "nbconvert_exporter": "python",
   "pygments_lexer": "ipython3",
   "version": "3.6.5"
  }
 },
 "nbformat": 4,
 "nbformat_minor": 2
}
